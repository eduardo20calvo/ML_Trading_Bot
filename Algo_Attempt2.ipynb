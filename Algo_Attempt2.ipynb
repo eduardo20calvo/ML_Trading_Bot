{
 "cells": [
  {
   "cell_type": "code",
   "execution_count": 76,
   "id": "10fac222-73f5-4f74-aaa8-eebc5458aeda",
   "metadata": {},
   "outputs": [],
   "source": [
    "import numpy as np\n",
    "import pandas as pd \n",
    "import requests\n",
    "import xlsxwriter\n",
    "import math\n",
    "import os\n",
    "import requests\n",
    "import pandas as pd\n",
    "from dotenv import load_dotenv\n",
    "import alpaca_trade_api as tradeapi\n",
    "from alpaca_trade_api.rest import TimeFrame \n",
    "%matplotlib inline\n",
    "import pandas_ta as pta\n",
    "import DateTime\n",
    "from datetime import date, timedelta"
   ]
  },
  {
   "cell_type": "code",
   "execution_count": 2,
   "id": "c469cd07-2084-4780-aa90-348d059884ed",
   "metadata": {},
   "outputs": [],
   "source": [
    "from sklearn.preprocessing import StandardScaler\n",
    "from pandas.tseries.offsets import DateOffset\n",
    "from sklearn.metrics import classification_report"
   ]
  },
  {
   "cell_type": "code",
   "execution_count": 77,
   "id": "3d938a55-2d97-4dce-95c1-6dc1d5300be9",
   "metadata": {},
   "outputs": [
    {
     "name": "stdout",
     "output_type": "stream",
     "text": [
      "2022-09-30\n"
     ]
    }
   ],
   "source": [
    "load_dotenv()\n",
    "api_key = os.getenv('ALPACA_API_KEY')\n",
    "api_secret = os.getenv('ALPACA_SECRET_KEY')\n",
    "\n",
    "\n",
    "yesterday_date = date.today() - timedelta(1)\n",
    "\n",
    "print(yesterday_date)"
   ]
  },
  {
   "cell_type": "code",
   "execution_count": 79,
   "id": "c556417b-1cd7-47cd-8342-b0a2fa649ae2",
   "metadata": {},
   "outputs": [
    {
     "data": {
      "text/html": [
       "<div>\n",
       "<style scoped>\n",
       "    .dataframe tbody tr th:only-of-type {\n",
       "        vertical-align: middle;\n",
       "    }\n",
       "\n",
       "    .dataframe tbody tr th {\n",
       "        vertical-align: top;\n",
       "    }\n",
       "\n",
       "    .dataframe thead th {\n",
       "        text-align: right;\n",
       "    }\n",
       "</style>\n",
       "<table border=\"1\" class=\"dataframe\">\n",
       "  <thead>\n",
       "    <tr style=\"text-align: right;\">\n",
       "      <th></th>\n",
       "      <th>exchange</th>\n",
       "      <th>open</th>\n",
       "      <th>high</th>\n",
       "      <th>low</th>\n",
       "      <th>close</th>\n",
       "      <th>volume</th>\n",
       "      <th>trade_count</th>\n",
       "      <th>vwap</th>\n",
       "    </tr>\n",
       "    <tr>\n",
       "      <th>timestamp</th>\n",
       "      <th></th>\n",
       "      <th></th>\n",
       "      <th></th>\n",
       "      <th></th>\n",
       "      <th></th>\n",
       "      <th></th>\n",
       "      <th></th>\n",
       "      <th></th>\n",
       "    </tr>\n",
       "  </thead>\n",
       "  <tbody>\n",
       "    <tr>\n",
       "      <th>2022-09-29 05:00:00+00:00</th>\n",
       "      <td>ERSX</td>\n",
       "      <td>1342.53</td>\n",
       "      <td>1349.63</td>\n",
       "      <td>1289.58</td>\n",
       "      <td>1326.18</td>\n",
       "      <td>1346.364223</td>\n",
       "      <td>309</td>\n",
       "      <td>1327.355385</td>\n",
       "    </tr>\n",
       "    <tr>\n",
       "      <th>2022-09-29 05:00:00+00:00</th>\n",
       "      <td>FTXU</td>\n",
       "      <td>1341.80</td>\n",
       "      <td>1352.90</td>\n",
       "      <td>1287.20</td>\n",
       "      <td>1328.50</td>\n",
       "      <td>85850.336000</td>\n",
       "      <td>38650</td>\n",
       "      <td>1325.077029</td>\n",
       "    </tr>\n",
       "    <tr>\n",
       "      <th>2022-09-30 05:00:00+00:00</th>\n",
       "      <td>CBSE</td>\n",
       "      <td>1328.54</td>\n",
       "      <td>1373.46</td>\n",
       "      <td>1315.00</td>\n",
       "      <td>1329.00</td>\n",
       "      <td>379867.670201</td>\n",
       "      <td>425669</td>\n",
       "      <td>1339.895294</td>\n",
       "    </tr>\n",
       "    <tr>\n",
       "      <th>2022-09-30 05:00:00+00:00</th>\n",
       "      <td>ERSX</td>\n",
       "      <td>1331.06</td>\n",
       "      <td>1372.56</td>\n",
       "      <td>1315.07</td>\n",
       "      <td>1329.88</td>\n",
       "      <td>1818.861066</td>\n",
       "      <td>532</td>\n",
       "      <td>1345.633777</td>\n",
       "    </tr>\n",
       "    <tr>\n",
       "      <th>2022-09-30 05:00:00+00:00</th>\n",
       "      <td>FTXU</td>\n",
       "      <td>1328.50</td>\n",
       "      <td>1373.60</td>\n",
       "      <td>1309.80</td>\n",
       "      <td>1328.90</td>\n",
       "      <td>61372.641000</td>\n",
       "      <td>42117</td>\n",
       "      <td>1339.683789</td>\n",
       "    </tr>\n",
       "  </tbody>\n",
       "</table>\n",
       "</div>"
      ],
      "text/plain": [
       "                          exchange     open     high      low    close  \\\n",
       "timestamp                                                                \n",
       "2022-09-29 05:00:00+00:00     ERSX  1342.53  1349.63  1289.58  1326.18   \n",
       "2022-09-29 05:00:00+00:00     FTXU  1341.80  1352.90  1287.20  1328.50   \n",
       "2022-09-30 05:00:00+00:00     CBSE  1328.54  1373.46  1315.00  1329.00   \n",
       "2022-09-30 05:00:00+00:00     ERSX  1331.06  1372.56  1315.07  1329.88   \n",
       "2022-09-30 05:00:00+00:00     FTXU  1328.50  1373.60  1309.80  1328.90   \n",
       "\n",
       "                                  volume  trade_count         vwap  \n",
       "timestamp                                                           \n",
       "2022-09-29 05:00:00+00:00    1346.364223          309  1327.355385  \n",
       "2022-09-29 05:00:00+00:00   85850.336000        38650  1325.077029  \n",
       "2022-09-30 05:00:00+00:00  379867.670201       425669  1339.895294  \n",
       "2022-09-30 05:00:00+00:00    1818.861066          532  1345.633777  \n",
       "2022-09-30 05:00:00+00:00   61372.641000        42117  1339.683789  "
      ]
     },
     "execution_count": 79,
     "metadata": {},
     "output_type": "execute_result"
    }
   ],
   "source": [
    "base_url = 'https://paper-api.alpaca.markets'\n",
    "\n",
    "api = tradeapi.REST(api_key, api_secret, base_url, api_version='v2')\n",
    "\n",
    "account = api.get_account()\n",
    "\n",
    "\n",
    "# api.get_portfolio_history(date_start=None, date_end=None, period=None, timeframe=None, extended_hours=None)\n",
    "\n",
    "\n",
    "# Create the Alpaca API object\n",
    "# YOUR CODE HERE!\n",
    "ETH_price = api.get_crypto_bars('ETHUSD',  TimeFrame.Day, \"2010-06-08\", yesterday_date)\n",
    "ETH_df = ETH_price.df\n",
    "\n",
    "ETH_df.tail()"
   ]
  },
  {
   "cell_type": "code",
   "execution_count": 80,
   "id": "61c20d21-a1d0-4372-b99a-8a0058e98d84",
   "metadata": {},
   "outputs": [],
   "source": [
    "ETH_df = ETH_df.drop(columns=[\"open\",\"high\",\"low\",\"volume\",\"trade_count\",\"vwap\"])\n"
   ]
  },
  {
   "cell_type": "code",
   "execution_count": 81,
   "id": "ac5a09ea-b42a-44bb-acdd-5e25263025fa",
   "metadata": {},
   "outputs": [
    {
     "data": {
      "text/html": [
       "<div>\n",
       "<style scoped>\n",
       "    .dataframe tbody tr th:only-of-type {\n",
       "        vertical-align: middle;\n",
       "    }\n",
       "\n",
       "    .dataframe tbody tr th {\n",
       "        vertical-align: top;\n",
       "    }\n",
       "\n",
       "    .dataframe thead th {\n",
       "        text-align: right;\n",
       "    }\n",
       "</style>\n",
       "<table border=\"1\" class=\"dataframe\">\n",
       "  <thead>\n",
       "    <tr style=\"text-align: right;\">\n",
       "      <th></th>\n",
       "      <th>exchange</th>\n",
       "      <th>close</th>\n",
       "    </tr>\n",
       "    <tr>\n",
       "      <th>timestamp</th>\n",
       "      <th></th>\n",
       "      <th></th>\n",
       "    </tr>\n",
       "  </thead>\n",
       "  <tbody>\n",
       "    <tr>\n",
       "      <th>2016-05-17 05:00:00+00:00</th>\n",
       "      <td>CBSE</td>\n",
       "      <td>14.00</td>\n",
       "    </tr>\n",
       "    <tr>\n",
       "      <th>2016-05-18 05:00:00+00:00</th>\n",
       "      <td>CBSE</td>\n",
       "      <td>13.18</td>\n",
       "    </tr>\n",
       "    <tr>\n",
       "      <th>2016-05-19 05:00:00+00:00</th>\n",
       "      <td>CBSE</td>\n",
       "      <td>14.82</td>\n",
       "    </tr>\n",
       "    <tr>\n",
       "      <th>2016-05-20 05:00:00+00:00</th>\n",
       "      <td>CBSE</td>\n",
       "      <td>14.17</td>\n",
       "    </tr>\n",
       "    <tr>\n",
       "      <th>2016-05-23 05:00:00+00:00</th>\n",
       "      <td>CBSE</td>\n",
       "      <td>13.74</td>\n",
       "    </tr>\n",
       "  </tbody>\n",
       "</table>\n",
       "</div>"
      ],
      "text/plain": [
       "                          exchange  close\n",
       "timestamp                                \n",
       "2016-05-17 05:00:00+00:00     CBSE  14.00\n",
       "2016-05-18 05:00:00+00:00     CBSE  13.18\n",
       "2016-05-19 05:00:00+00:00     CBSE  14.82\n",
       "2016-05-20 05:00:00+00:00     CBSE  14.17\n",
       "2016-05-23 05:00:00+00:00     CBSE  13.74"
      ]
     },
     "execution_count": 81,
     "metadata": {},
     "output_type": "execute_result"
    }
   ],
   "source": [
    "ETH_df = ETH_df[ETH_df['exchange'].str.contains(\"ERSX|FTXU\")==False]\n",
    "\n",
    "\n",
    "ETH_df.head()"
   ]
  },
  {
   "cell_type": "code",
   "execution_count": 82,
   "id": "47ea4782-cdfd-4fa8-9554-5a25564f4d42",
   "metadata": {},
   "outputs": [],
   "source": [
    "ETH_df[\"Actual Returns\"] = ETH_df[\"close\"].pct_change()"
   ]
  },
  {
   "cell_type": "code",
   "execution_count": 83,
   "id": "3e9827b5-fdad-4859-844c-e1c184d8102a",
   "metadata": {},
   "outputs": [],
   "source": [
    "ETH_df = ETH_df.dropna()"
   ]
  },
  {
   "cell_type": "code",
   "execution_count": 84,
   "id": "717f32e2-7398-41e7-a7e7-8266083882ab",
   "metadata": {},
   "outputs": [
    {
     "data": {
      "text/html": [
       "<div>\n",
       "<style scoped>\n",
       "    .dataframe tbody tr th:only-of-type {\n",
       "        vertical-align: middle;\n",
       "    }\n",
       "\n",
       "    .dataframe tbody tr th {\n",
       "        vertical-align: top;\n",
       "    }\n",
       "\n",
       "    .dataframe thead th {\n",
       "        text-align: right;\n",
       "    }\n",
       "</style>\n",
       "<table border=\"1\" class=\"dataframe\">\n",
       "  <thead>\n",
       "    <tr style=\"text-align: right;\">\n",
       "      <th></th>\n",
       "      <th>exchange</th>\n",
       "      <th>close</th>\n",
       "      <th>Actual Returns</th>\n",
       "    </tr>\n",
       "    <tr>\n",
       "      <th>timestamp</th>\n",
       "      <th></th>\n",
       "      <th></th>\n",
       "      <th></th>\n",
       "    </tr>\n",
       "  </thead>\n",
       "  <tbody>\n",
       "    <tr>\n",
       "      <th>2016-05-18 05:00:00+00:00</th>\n",
       "      <td>CBSE</td>\n",
       "      <td>13.18</td>\n",
       "      <td>-0.058571</td>\n",
       "    </tr>\n",
       "    <tr>\n",
       "      <th>2016-05-19 05:00:00+00:00</th>\n",
       "      <td>CBSE</td>\n",
       "      <td>14.82</td>\n",
       "      <td>0.124431</td>\n",
       "    </tr>\n",
       "    <tr>\n",
       "      <th>2016-05-20 05:00:00+00:00</th>\n",
       "      <td>CBSE</td>\n",
       "      <td>14.17</td>\n",
       "      <td>-0.043860</td>\n",
       "    </tr>\n",
       "    <tr>\n",
       "      <th>2016-05-23 05:00:00+00:00</th>\n",
       "      <td>CBSE</td>\n",
       "      <td>13.74</td>\n",
       "      <td>-0.030346</td>\n",
       "    </tr>\n",
       "    <tr>\n",
       "      <th>2016-05-24 05:00:00+00:00</th>\n",
       "      <td>CBSE</td>\n",
       "      <td>12.94</td>\n",
       "      <td>-0.058224</td>\n",
       "    </tr>\n",
       "    <tr>\n",
       "      <th>...</th>\n",
       "      <td>...</td>\n",
       "      <td>...</td>\n",
       "      <td>...</td>\n",
       "    </tr>\n",
       "    <tr>\n",
       "      <th>2022-09-26 05:00:00+00:00</th>\n",
       "      <td>CBSE</td>\n",
       "      <td>1380.58</td>\n",
       "      <td>0.066711</td>\n",
       "    </tr>\n",
       "    <tr>\n",
       "      <th>2022-09-27 05:00:00+00:00</th>\n",
       "      <td>CBSE</td>\n",
       "      <td>1283.86</td>\n",
       "      <td>-0.070058</td>\n",
       "    </tr>\n",
       "    <tr>\n",
       "      <th>2022-09-28 05:00:00+00:00</th>\n",
       "      <td>CBSE</td>\n",
       "      <td>1341.36</td>\n",
       "      <td>0.044787</td>\n",
       "    </tr>\n",
       "    <tr>\n",
       "      <th>2022-09-29 05:00:00+00:00</th>\n",
       "      <td>CBSE</td>\n",
       "      <td>1328.64</td>\n",
       "      <td>-0.009483</td>\n",
       "    </tr>\n",
       "    <tr>\n",
       "      <th>2022-09-30 05:00:00+00:00</th>\n",
       "      <td>CBSE</td>\n",
       "      <td>1329.00</td>\n",
       "      <td>0.000271</td>\n",
       "    </tr>\n",
       "  </tbody>\n",
       "</table>\n",
       "<p>2325 rows × 3 columns</p>\n",
       "</div>"
      ],
      "text/plain": [
       "                          exchange    close  Actual Returns\n",
       "timestamp                                                  \n",
       "2016-05-18 05:00:00+00:00     CBSE    13.18       -0.058571\n",
       "2016-05-19 05:00:00+00:00     CBSE    14.82        0.124431\n",
       "2016-05-20 05:00:00+00:00     CBSE    14.17       -0.043860\n",
       "2016-05-23 05:00:00+00:00     CBSE    13.74       -0.030346\n",
       "2016-05-24 05:00:00+00:00     CBSE    12.94       -0.058224\n",
       "...                            ...      ...             ...\n",
       "2022-09-26 05:00:00+00:00     CBSE  1380.58        0.066711\n",
       "2022-09-27 05:00:00+00:00     CBSE  1283.86       -0.070058\n",
       "2022-09-28 05:00:00+00:00     CBSE  1341.36        0.044787\n",
       "2022-09-29 05:00:00+00:00     CBSE  1328.64       -0.009483\n",
       "2022-09-30 05:00:00+00:00     CBSE  1329.00        0.000271\n",
       "\n",
       "[2325 rows x 3 columns]"
      ]
     },
     "execution_count": 84,
     "metadata": {},
     "output_type": "execute_result"
    }
   ],
   "source": [
    "ETH_df"
   ]
  },
  {
   "cell_type": "code",
   "execution_count": 85,
   "id": "2c175055-3ad7-4666-961e-b069065cfc31",
   "metadata": {},
   "outputs": [],
   "source": [
    "ETH_df[\"RSI EMA\"] = pta.rsi(ETH_df['close'], length = 30)\n",
    "ETH_df[\"RSI Drift\"] = pta.rsi(ETH_df['close'], length = 30, drift = 10)"
   ]
  },
  {
   "cell_type": "code",
   "execution_count": 86,
   "id": "d886a8bc-e6e3-4786-9229-94a6720f994e",
   "metadata": {},
   "outputs": [],
   "source": [
    "ETH_df = ETH_df.dropna()"
   ]
  },
  {
   "cell_type": "code",
   "execution_count": 87,
   "id": "7ce7d1e2-9a66-4e12-8386-2d67d32672dc",
   "metadata": {},
   "outputs": [
    {
     "data": {
      "text/html": [
       "<div>\n",
       "<style scoped>\n",
       "    .dataframe tbody tr th:only-of-type {\n",
       "        vertical-align: middle;\n",
       "    }\n",
       "\n",
       "    .dataframe tbody tr th {\n",
       "        vertical-align: top;\n",
       "    }\n",
       "\n",
       "    .dataframe thead th {\n",
       "        text-align: right;\n",
       "    }\n",
       "</style>\n",
       "<table border=\"1\" class=\"dataframe\">\n",
       "  <thead>\n",
       "    <tr style=\"text-align: right;\">\n",
       "      <th></th>\n",
       "      <th>exchange</th>\n",
       "      <th>close</th>\n",
       "      <th>Actual Returns</th>\n",
       "      <th>RSI EMA</th>\n",
       "      <th>RSI Drift</th>\n",
       "    </tr>\n",
       "    <tr>\n",
       "      <th>timestamp</th>\n",
       "      <th></th>\n",
       "      <th></th>\n",
       "      <th></th>\n",
       "      <th></th>\n",
       "      <th></th>\n",
       "    </tr>\n",
       "  </thead>\n",
       "  <tbody>\n",
       "    <tr>\n",
       "      <th>2016-06-28 05:00:00+00:00</th>\n",
       "      <td>CBSE</td>\n",
       "      <td>12.23</td>\n",
       "      <td>-0.124553</td>\n",
       "      <td>45.779760</td>\n",
       "      <td>45.191366</td>\n",
       "    </tr>\n",
       "    <tr>\n",
       "      <th>2016-06-29 05:00:00+00:00</th>\n",
       "      <td>CBSE</td>\n",
       "      <td>12.70</td>\n",
       "      <td>0.038430</td>\n",
       "      <td>46.987372</td>\n",
       "      <td>45.886696</td>\n",
       "    </tr>\n",
       "    <tr>\n",
       "      <th>2016-06-30 05:00:00+00:00</th>\n",
       "      <td>CBSE</td>\n",
       "      <td>12.32</td>\n",
       "      <td>-0.029921</td>\n",
       "      <td>46.128081</td>\n",
       "      <td>46.348415</td>\n",
       "    </tr>\n",
       "    <tr>\n",
       "      <th>2016-07-01 05:00:00+00:00</th>\n",
       "      <td>CBSE</td>\n",
       "      <td>12.14</td>\n",
       "      <td>-0.014610</td>\n",
       "      <td>45.718384</td>\n",
       "      <td>44.625139</td>\n",
       "    </tr>\n",
       "    <tr>\n",
       "      <th>2016-07-02 05:00:00+00:00</th>\n",
       "      <td>CBSE</td>\n",
       "      <td>12.09</td>\n",
       "      <td>-0.004119</td>\n",
       "      <td>45.601998</td>\n",
       "      <td>43.459800</td>\n",
       "    </tr>\n",
       "    <tr>\n",
       "      <th>...</th>\n",
       "      <td>...</td>\n",
       "      <td>...</td>\n",
       "      <td>...</td>\n",
       "      <td>...</td>\n",
       "      <td>...</td>\n",
       "    </tr>\n",
       "    <tr>\n",
       "      <th>2022-09-26 05:00:00+00:00</th>\n",
       "      <td>CBSE</td>\n",
       "      <td>1380.58</td>\n",
       "      <td>0.066711</td>\n",
       "      <td>45.105937</td>\n",
       "      <td>30.288123</td>\n",
       "    </tr>\n",
       "    <tr>\n",
       "      <th>2022-09-27 05:00:00+00:00</th>\n",
       "      <td>CBSE</td>\n",
       "      <td>1283.86</td>\n",
       "      <td>-0.070058</td>\n",
       "      <td>42.576306</td>\n",
       "      <td>29.453016</td>\n",
       "    </tr>\n",
       "    <tr>\n",
       "      <th>2022-09-28 05:00:00+00:00</th>\n",
       "      <td>CBSE</td>\n",
       "      <td>1341.36</td>\n",
       "      <td>0.044787</td>\n",
       "      <td>44.490839</td>\n",
       "      <td>29.870477</td>\n",
       "    </tr>\n",
       "    <tr>\n",
       "      <th>2022-09-29 05:00:00+00:00</th>\n",
       "      <td>CBSE</td>\n",
       "      <td>1328.64</td>\n",
       "      <td>-0.009483</td>\n",
       "      <td>44.153952</td>\n",
       "      <td>29.724385</td>\n",
       "    </tr>\n",
       "    <tr>\n",
       "      <th>2022-09-30 05:00:00+00:00</th>\n",
       "      <td>CBSE</td>\n",
       "      <td>1329.00</td>\n",
       "      <td>0.000271</td>\n",
       "      <td>44.166330</td>\n",
       "      <td>29.674832</td>\n",
       "    </tr>\n",
       "  </tbody>\n",
       "</table>\n",
       "<p>2286 rows × 5 columns</p>\n",
       "</div>"
      ],
      "text/plain": [
       "                          exchange    close  Actual Returns    RSI EMA  \\\n",
       "timestamp                                                                \n",
       "2016-06-28 05:00:00+00:00     CBSE    12.23       -0.124553  45.779760   \n",
       "2016-06-29 05:00:00+00:00     CBSE    12.70        0.038430  46.987372   \n",
       "2016-06-30 05:00:00+00:00     CBSE    12.32       -0.029921  46.128081   \n",
       "2016-07-01 05:00:00+00:00     CBSE    12.14       -0.014610  45.718384   \n",
       "2016-07-02 05:00:00+00:00     CBSE    12.09       -0.004119  45.601998   \n",
       "...                            ...      ...             ...        ...   \n",
       "2022-09-26 05:00:00+00:00     CBSE  1380.58        0.066711  45.105937   \n",
       "2022-09-27 05:00:00+00:00     CBSE  1283.86       -0.070058  42.576306   \n",
       "2022-09-28 05:00:00+00:00     CBSE  1341.36        0.044787  44.490839   \n",
       "2022-09-29 05:00:00+00:00     CBSE  1328.64       -0.009483  44.153952   \n",
       "2022-09-30 05:00:00+00:00     CBSE  1329.00        0.000271  44.166330   \n",
       "\n",
       "                           RSI Drift  \n",
       "timestamp                             \n",
       "2016-06-28 05:00:00+00:00  45.191366  \n",
       "2016-06-29 05:00:00+00:00  45.886696  \n",
       "2016-06-30 05:00:00+00:00  46.348415  \n",
       "2016-07-01 05:00:00+00:00  44.625139  \n",
       "2016-07-02 05:00:00+00:00  43.459800  \n",
       "...                              ...  \n",
       "2022-09-26 05:00:00+00:00  30.288123  \n",
       "2022-09-27 05:00:00+00:00  29.453016  \n",
       "2022-09-28 05:00:00+00:00  29.870477  \n",
       "2022-09-29 05:00:00+00:00  29.724385  \n",
       "2022-09-30 05:00:00+00:00  29.674832  \n",
       "\n",
       "[2286 rows x 5 columns]"
      ]
     },
     "execution_count": 87,
     "metadata": {},
     "output_type": "execute_result"
    }
   ],
   "source": [
    "ETH_df    "
   ]
  },
  {
   "cell_type": "code",
   "execution_count": 88,
   "id": "bf247bf7-fd13-4fd5-9e68-95a3708c7e57",
   "metadata": {},
   "outputs": [
    {
     "name": "stderr",
     "output_type": "stream",
     "text": [
      "C:\\ProgramData\\Anaconda3\\envs\\dev\\lib\\site-packages\\ipykernel_launcher.py:1: SettingWithCopyWarning: \n",
      "A value is trying to be set on a copy of a slice from a DataFrame.\n",
      "Try using .loc[row_indexer,col_indexer] = value instead\n",
      "\n",
      "See the caveats in the documentation: https://pandas.pydata.org/pandas-docs/stable/user_guide/indexing.html#returning-a-view-versus-a-copy\n",
      "  \"\"\"Entry point for launching an IPython kernel.\n",
      "C:\\ProgramData\\Anaconda3\\envs\\dev\\lib\\site-packages\\pandas\\core\\indexing.py:1817: SettingWithCopyWarning: \n",
      "A value is trying to be set on a copy of a slice from a DataFrame.\n",
      "Try using .loc[row_indexer,col_indexer] = value instead\n",
      "\n",
      "See the caveats in the documentation: https://pandas.pydata.org/pandas-docs/stable/user_guide/indexing.html#returning-a-view-versus-a-copy\n",
      "  self._setitem_single_column(loc, value, pi)\n"
     ]
    }
   ],
   "source": [
    "ETH_df[\"Signal\"] = 0.0\n",
    "\n",
    "\n",
    "ETH_df.loc[(ETH_df[\"Actual Returns\"] >= 0), 'Signal'] = 1\n",
    "ETH_df.loc[(ETH_df[\"Actual Returns\"] < 0), 'Signal'] = -1\n",
    "\n",
    "\n",
    "\n",
    "def buy_order(rsi, signal):\n",
    "    if rsi >= 70 and singal = 1:\n",
    "    submit sell order\n",
    "    if rsi <= 30 and singal = -1:\n",
    "    sumbit buy order\n",
    "    if rsi "
   ]
  },
  {
   "cell_type": "code",
   "execution_count": 89,
   "id": "ca770127-c38e-4503-8087-306c44401e82",
   "metadata": {},
   "outputs": [
    {
     "data": {
      "text/html": [
       "<div>\n",
       "<style scoped>\n",
       "    .dataframe tbody tr th:only-of-type {\n",
       "        vertical-align: middle;\n",
       "    }\n",
       "\n",
       "    .dataframe tbody tr th {\n",
       "        vertical-align: top;\n",
       "    }\n",
       "\n",
       "    .dataframe thead th {\n",
       "        text-align: right;\n",
       "    }\n",
       "</style>\n",
       "<table border=\"1\" class=\"dataframe\">\n",
       "  <thead>\n",
       "    <tr style=\"text-align: right;\">\n",
       "      <th></th>\n",
       "      <th>exchange</th>\n",
       "      <th>close</th>\n",
       "      <th>Actual Returns</th>\n",
       "      <th>RSI EMA</th>\n",
       "      <th>RSI Drift</th>\n",
       "      <th>Signal</th>\n",
       "    </tr>\n",
       "    <tr>\n",
       "      <th>timestamp</th>\n",
       "      <th></th>\n",
       "      <th></th>\n",
       "      <th></th>\n",
       "      <th></th>\n",
       "      <th></th>\n",
       "      <th></th>\n",
       "    </tr>\n",
       "  </thead>\n",
       "  <tbody>\n",
       "    <tr>\n",
       "      <th>2016-06-28 05:00:00+00:00</th>\n",
       "      <td>CBSE</td>\n",
       "      <td>12.23</td>\n",
       "      <td>-0.124553</td>\n",
       "      <td>45.779760</td>\n",
       "      <td>45.191366</td>\n",
       "      <td>-1.0</td>\n",
       "    </tr>\n",
       "    <tr>\n",
       "      <th>2016-06-29 05:00:00+00:00</th>\n",
       "      <td>CBSE</td>\n",
       "      <td>12.70</td>\n",
       "      <td>0.038430</td>\n",
       "      <td>46.987372</td>\n",
       "      <td>45.886696</td>\n",
       "      <td>1.0</td>\n",
       "    </tr>\n",
       "    <tr>\n",
       "      <th>2016-06-30 05:00:00+00:00</th>\n",
       "      <td>CBSE</td>\n",
       "      <td>12.32</td>\n",
       "      <td>-0.029921</td>\n",
       "      <td>46.128081</td>\n",
       "      <td>46.348415</td>\n",
       "      <td>-1.0</td>\n",
       "    </tr>\n",
       "    <tr>\n",
       "      <th>2016-07-01 05:00:00+00:00</th>\n",
       "      <td>CBSE</td>\n",
       "      <td>12.14</td>\n",
       "      <td>-0.014610</td>\n",
       "      <td>45.718384</td>\n",
       "      <td>44.625139</td>\n",
       "      <td>-1.0</td>\n",
       "    </tr>\n",
       "    <tr>\n",
       "      <th>2016-07-02 05:00:00+00:00</th>\n",
       "      <td>CBSE</td>\n",
       "      <td>12.09</td>\n",
       "      <td>-0.004119</td>\n",
       "      <td>45.601998</td>\n",
       "      <td>43.459800</td>\n",
       "      <td>-1.0</td>\n",
       "    </tr>\n",
       "    <tr>\n",
       "      <th>...</th>\n",
       "      <td>...</td>\n",
       "      <td>...</td>\n",
       "      <td>...</td>\n",
       "      <td>...</td>\n",
       "      <td>...</td>\n",
       "      <td>...</td>\n",
       "    </tr>\n",
       "    <tr>\n",
       "      <th>2022-09-26 05:00:00+00:00</th>\n",
       "      <td>CBSE</td>\n",
       "      <td>1380.58</td>\n",
       "      <td>0.066711</td>\n",
       "      <td>45.105937</td>\n",
       "      <td>30.288123</td>\n",
       "      <td>1.0</td>\n",
       "    </tr>\n",
       "    <tr>\n",
       "      <th>2022-09-27 05:00:00+00:00</th>\n",
       "      <td>CBSE</td>\n",
       "      <td>1283.86</td>\n",
       "      <td>-0.070058</td>\n",
       "      <td>42.576306</td>\n",
       "      <td>29.453016</td>\n",
       "      <td>-1.0</td>\n",
       "    </tr>\n",
       "    <tr>\n",
       "      <th>2022-09-28 05:00:00+00:00</th>\n",
       "      <td>CBSE</td>\n",
       "      <td>1341.36</td>\n",
       "      <td>0.044787</td>\n",
       "      <td>44.490839</td>\n",
       "      <td>29.870477</td>\n",
       "      <td>1.0</td>\n",
       "    </tr>\n",
       "    <tr>\n",
       "      <th>2022-09-29 05:00:00+00:00</th>\n",
       "      <td>CBSE</td>\n",
       "      <td>1328.64</td>\n",
       "      <td>-0.009483</td>\n",
       "      <td>44.153952</td>\n",
       "      <td>29.724385</td>\n",
       "      <td>-1.0</td>\n",
       "    </tr>\n",
       "    <tr>\n",
       "      <th>2022-09-30 05:00:00+00:00</th>\n",
       "      <td>CBSE</td>\n",
       "      <td>1329.00</td>\n",
       "      <td>0.000271</td>\n",
       "      <td>44.166330</td>\n",
       "      <td>29.674832</td>\n",
       "      <td>1.0</td>\n",
       "    </tr>\n",
       "  </tbody>\n",
       "</table>\n",
       "<p>2286 rows × 6 columns</p>\n",
       "</div>"
      ],
      "text/plain": [
       "                          exchange    close  Actual Returns    RSI EMA  \\\n",
       "timestamp                                                                \n",
       "2016-06-28 05:00:00+00:00     CBSE    12.23       -0.124553  45.779760   \n",
       "2016-06-29 05:00:00+00:00     CBSE    12.70        0.038430  46.987372   \n",
       "2016-06-30 05:00:00+00:00     CBSE    12.32       -0.029921  46.128081   \n",
       "2016-07-01 05:00:00+00:00     CBSE    12.14       -0.014610  45.718384   \n",
       "2016-07-02 05:00:00+00:00     CBSE    12.09       -0.004119  45.601998   \n",
       "...                            ...      ...             ...        ...   \n",
       "2022-09-26 05:00:00+00:00     CBSE  1380.58        0.066711  45.105937   \n",
       "2022-09-27 05:00:00+00:00     CBSE  1283.86       -0.070058  42.576306   \n",
       "2022-09-28 05:00:00+00:00     CBSE  1341.36        0.044787  44.490839   \n",
       "2022-09-29 05:00:00+00:00     CBSE  1328.64       -0.009483  44.153952   \n",
       "2022-09-30 05:00:00+00:00     CBSE  1329.00        0.000271  44.166330   \n",
       "\n",
       "                           RSI Drift  Signal  \n",
       "timestamp                                     \n",
       "2016-06-28 05:00:00+00:00  45.191366    -1.0  \n",
       "2016-06-29 05:00:00+00:00  45.886696     1.0  \n",
       "2016-06-30 05:00:00+00:00  46.348415    -1.0  \n",
       "2016-07-01 05:00:00+00:00  44.625139    -1.0  \n",
       "2016-07-02 05:00:00+00:00  43.459800    -1.0  \n",
       "...                              ...     ...  \n",
       "2022-09-26 05:00:00+00:00  30.288123     1.0  \n",
       "2022-09-27 05:00:00+00:00  29.453016    -1.0  \n",
       "2022-09-28 05:00:00+00:00  29.870477     1.0  \n",
       "2022-09-29 05:00:00+00:00  29.724385    -1.0  \n",
       "2022-09-30 05:00:00+00:00  29.674832     1.0  \n",
       "\n",
       "[2286 rows x 6 columns]"
      ]
     },
     "execution_count": 89,
     "metadata": {},
     "output_type": "execute_result"
    }
   ],
   "source": [
    "ETH_df"
   ]
  },
  {
   "cell_type": "code",
   "execution_count": 90,
   "id": "8cbfe764-ce40-4024-b01b-6ba6093b8653",
   "metadata": {},
   "outputs": [
    {
     "name": "stderr",
     "output_type": "stream",
     "text": [
      "C:\\ProgramData\\Anaconda3\\envs\\dev\\lib\\site-packages\\ipykernel_launcher.py:1: SettingWithCopyWarning: \n",
      "A value is trying to be set on a copy of a slice from a DataFrame.\n",
      "Try using .loc[row_indexer,col_indexer] = value instead\n",
      "\n",
      "See the caveats in the documentation: https://pandas.pydata.org/pandas-docs/stable/user_guide/indexing.html#returning-a-view-versus-a-copy\n",
      "  \"\"\"Entry point for launching an IPython kernel.\n"
     ]
    }
   ],
   "source": [
    "ETH_df['Strategy Returns'] = ETH_df['Actual Returns'] * ETH_df['Signal'].shift()"
   ]
  },
  {
   "cell_type": "code",
   "execution_count": 91,
   "id": "51561a8d-c4f5-4dfd-b1e5-8b4f817017eb",
   "metadata": {},
   "outputs": [
    {
     "data": {
      "text/html": [
       "<div>\n",
       "<style scoped>\n",
       "    .dataframe tbody tr th:only-of-type {\n",
       "        vertical-align: middle;\n",
       "    }\n",
       "\n",
       "    .dataframe tbody tr th {\n",
       "        vertical-align: top;\n",
       "    }\n",
       "\n",
       "    .dataframe thead th {\n",
       "        text-align: right;\n",
       "    }\n",
       "</style>\n",
       "<table border=\"1\" class=\"dataframe\">\n",
       "  <thead>\n",
       "    <tr style=\"text-align: right;\">\n",
       "      <th></th>\n",
       "      <th>exchange</th>\n",
       "      <th>close</th>\n",
       "      <th>Actual Returns</th>\n",
       "      <th>RSI EMA</th>\n",
       "      <th>RSI Drift</th>\n",
       "      <th>Signal</th>\n",
       "      <th>Strategy Returns</th>\n",
       "    </tr>\n",
       "    <tr>\n",
       "      <th>timestamp</th>\n",
       "      <th></th>\n",
       "      <th></th>\n",
       "      <th></th>\n",
       "      <th></th>\n",
       "      <th></th>\n",
       "      <th></th>\n",
       "      <th></th>\n",
       "    </tr>\n",
       "  </thead>\n",
       "  <tbody>\n",
       "    <tr>\n",
       "      <th>2016-06-28 05:00:00+00:00</th>\n",
       "      <td>CBSE</td>\n",
       "      <td>12.23</td>\n",
       "      <td>-0.124553</td>\n",
       "      <td>45.779760</td>\n",
       "      <td>45.191366</td>\n",
       "      <td>-1.0</td>\n",
       "      <td>NaN</td>\n",
       "    </tr>\n",
       "    <tr>\n",
       "      <th>2016-06-29 05:00:00+00:00</th>\n",
       "      <td>CBSE</td>\n",
       "      <td>12.70</td>\n",
       "      <td>0.038430</td>\n",
       "      <td>46.987372</td>\n",
       "      <td>45.886696</td>\n",
       "      <td>1.0</td>\n",
       "      <td>-0.038430</td>\n",
       "    </tr>\n",
       "    <tr>\n",
       "      <th>2016-06-30 05:00:00+00:00</th>\n",
       "      <td>CBSE</td>\n",
       "      <td>12.32</td>\n",
       "      <td>-0.029921</td>\n",
       "      <td>46.128081</td>\n",
       "      <td>46.348415</td>\n",
       "      <td>-1.0</td>\n",
       "      <td>-0.029921</td>\n",
       "    </tr>\n",
       "    <tr>\n",
       "      <th>2016-07-01 05:00:00+00:00</th>\n",
       "      <td>CBSE</td>\n",
       "      <td>12.14</td>\n",
       "      <td>-0.014610</td>\n",
       "      <td>45.718384</td>\n",
       "      <td>44.625139</td>\n",
       "      <td>-1.0</td>\n",
       "      <td>0.014610</td>\n",
       "    </tr>\n",
       "    <tr>\n",
       "      <th>2016-07-02 05:00:00+00:00</th>\n",
       "      <td>CBSE</td>\n",
       "      <td>12.09</td>\n",
       "      <td>-0.004119</td>\n",
       "      <td>45.601998</td>\n",
       "      <td>43.459800</td>\n",
       "      <td>-1.0</td>\n",
       "      <td>0.004119</td>\n",
       "    </tr>\n",
       "    <tr>\n",
       "      <th>...</th>\n",
       "      <td>...</td>\n",
       "      <td>...</td>\n",
       "      <td>...</td>\n",
       "      <td>...</td>\n",
       "      <td>...</td>\n",
       "      <td>...</td>\n",
       "      <td>...</td>\n",
       "    </tr>\n",
       "    <tr>\n",
       "      <th>2022-09-26 05:00:00+00:00</th>\n",
       "      <td>CBSE</td>\n",
       "      <td>1380.58</td>\n",
       "      <td>0.066711</td>\n",
       "      <td>45.105937</td>\n",
       "      <td>30.288123</td>\n",
       "      <td>1.0</td>\n",
       "      <td>-0.066711</td>\n",
       "    </tr>\n",
       "    <tr>\n",
       "      <th>2022-09-27 05:00:00+00:00</th>\n",
       "      <td>CBSE</td>\n",
       "      <td>1283.86</td>\n",
       "      <td>-0.070058</td>\n",
       "      <td>42.576306</td>\n",
       "      <td>29.453016</td>\n",
       "      <td>-1.0</td>\n",
       "      <td>-0.070058</td>\n",
       "    </tr>\n",
       "    <tr>\n",
       "      <th>2022-09-28 05:00:00+00:00</th>\n",
       "      <td>CBSE</td>\n",
       "      <td>1341.36</td>\n",
       "      <td>0.044787</td>\n",
       "      <td>44.490839</td>\n",
       "      <td>29.870477</td>\n",
       "      <td>1.0</td>\n",
       "      <td>-0.044787</td>\n",
       "    </tr>\n",
       "    <tr>\n",
       "      <th>2022-09-29 05:00:00+00:00</th>\n",
       "      <td>CBSE</td>\n",
       "      <td>1328.64</td>\n",
       "      <td>-0.009483</td>\n",
       "      <td>44.153952</td>\n",
       "      <td>29.724385</td>\n",
       "      <td>-1.0</td>\n",
       "      <td>-0.009483</td>\n",
       "    </tr>\n",
       "    <tr>\n",
       "      <th>2022-09-30 05:00:00+00:00</th>\n",
       "      <td>CBSE</td>\n",
       "      <td>1329.00</td>\n",
       "      <td>0.000271</td>\n",
       "      <td>44.166330</td>\n",
       "      <td>29.674832</td>\n",
       "      <td>1.0</td>\n",
       "      <td>-0.000271</td>\n",
       "    </tr>\n",
       "  </tbody>\n",
       "</table>\n",
       "<p>2286 rows × 7 columns</p>\n",
       "</div>"
      ],
      "text/plain": [
       "                          exchange    close  Actual Returns    RSI EMA  \\\n",
       "timestamp                                                                \n",
       "2016-06-28 05:00:00+00:00     CBSE    12.23       -0.124553  45.779760   \n",
       "2016-06-29 05:00:00+00:00     CBSE    12.70        0.038430  46.987372   \n",
       "2016-06-30 05:00:00+00:00     CBSE    12.32       -0.029921  46.128081   \n",
       "2016-07-01 05:00:00+00:00     CBSE    12.14       -0.014610  45.718384   \n",
       "2016-07-02 05:00:00+00:00     CBSE    12.09       -0.004119  45.601998   \n",
       "...                            ...      ...             ...        ...   \n",
       "2022-09-26 05:00:00+00:00     CBSE  1380.58        0.066711  45.105937   \n",
       "2022-09-27 05:00:00+00:00     CBSE  1283.86       -0.070058  42.576306   \n",
       "2022-09-28 05:00:00+00:00     CBSE  1341.36        0.044787  44.490839   \n",
       "2022-09-29 05:00:00+00:00     CBSE  1328.64       -0.009483  44.153952   \n",
       "2022-09-30 05:00:00+00:00     CBSE  1329.00        0.000271  44.166330   \n",
       "\n",
       "                           RSI Drift  Signal  Strategy Returns  \n",
       "timestamp                                                       \n",
       "2016-06-28 05:00:00+00:00  45.191366    -1.0               NaN  \n",
       "2016-06-29 05:00:00+00:00  45.886696     1.0         -0.038430  \n",
       "2016-06-30 05:00:00+00:00  46.348415    -1.0         -0.029921  \n",
       "2016-07-01 05:00:00+00:00  44.625139    -1.0          0.014610  \n",
       "2016-07-02 05:00:00+00:00  43.459800    -1.0          0.004119  \n",
       "...                              ...     ...               ...  \n",
       "2022-09-26 05:00:00+00:00  30.288123     1.0         -0.066711  \n",
       "2022-09-27 05:00:00+00:00  29.453016    -1.0         -0.070058  \n",
       "2022-09-28 05:00:00+00:00  29.870477     1.0         -0.044787  \n",
       "2022-09-29 05:00:00+00:00  29.724385    -1.0         -0.009483  \n",
       "2022-09-30 05:00:00+00:00  29.674832     1.0         -0.000271  \n",
       "\n",
       "[2286 rows x 7 columns]"
      ]
     },
     "execution_count": 91,
     "metadata": {},
     "output_type": "execute_result"
    }
   ],
   "source": [
    "ETH_df"
   ]
  },
  {
   "cell_type": "code",
   "execution_count": 92,
   "id": "f8832ef6-a735-4891-adec-692b7d616971",
   "metadata": {},
   "outputs": [
    {
     "data": {
      "text/plain": [
       "<AxesSubplot:xlabel='timestamp'>"
      ]
     },
     "execution_count": 92,
     "metadata": {},
     "output_type": "execute_result"
    },
    {
     "data": {
      "image/png": "[encoded data removed]",
      "text/plain": [
       "<Figure size 432x288 with 1 Axes>"
      ]
     },
     "metadata": {
      "needs_background": "light"
     },
     "output_type": "display_data"
    }
   ],
   "source": [
    "(1 + ETH_df['Strategy Returns']).cumprod().plot()"
   ]
  },
  {
   "cell_type": "code",
   "execution_count": 93,
   "id": "0a43c5fd-2592-4418-a508-53beab69e26a",
   "metadata": {},
   "outputs": [],
   "source": [
    "X = ETH_df[[\"RSI EMA\",\"RSI Drift\" ]].shift().dropna()"
   ]
  },
  {
   "cell_type": "code",
   "execution_count": 94,
   "id": "b64757fc-c0e3-4c27-bcc4-b8904c0a3485",
   "metadata": {},
   "outputs": [],
   "source": [
    "y = ETH_df['Signal']"
   ]
  },
  {
   "cell_type": "code",
   "execution_count": 95,
   "id": "e1346c9b-283f-4e1e-9b9e-97d50b00e6fa",
   "metadata": {},
   "outputs": [
    {
     "name": "stdout",
     "output_type": "stream",
     "text": [
      "2016-06-29 05:00:00+00:00\n"
     ]
    }
   ],
   "source": [
    "training_begin = X.index.min()\n",
    "print(training_begin)"
   ]
  },
  {
   "cell_type": "code",
   "execution_count": 96,
   "id": "a3880f77-ca91-4146-9c71-52c83c9154c9",
   "metadata": {},
   "outputs": [
    {
     "name": "stdout",
     "output_type": "stream",
     "text": [
      "2018-06-29 05:00:00+00:00\n"
     ]
    }
   ],
   "source": [
    "training_end = X.index.min() + DateOffset(months=24)\n",
    "print(training_end)"
   ]
  },
  {
   "cell_type": "code",
   "execution_count": 97,
   "id": "9c21be4c-d06b-412e-8222-85d491beb645",
   "metadata": {},
   "outputs": [],
   "source": [
    "X_train = X.loc[training_begin:training_end]\n",
    "y_train = y.loc[training_begin:training_end]\n"
   ]
  },
  {
   "cell_type": "code",
   "execution_count": 98,
   "id": "7fd3cee3-05cc-41c5-87f1-27da8c42ba71",
   "metadata": {
    "tags": []
   },
   "outputs": [],
   "source": [
    "X_test = X.loc[training_end+DateOffset(hours=1):]\n",
    "y_test = y.loc[training_end+DateOffset(hours=1):]"
   ]
  },
  {
   "cell_type": "code",
   "execution_count": 99,
   "id": "1b0fe3c5-7b07-4b54-a8fb-9a2a2c5988a8",
   "metadata": {},
   "outputs": [],
   "source": [
    "scaler = StandardScaler()\n",
    "\n",
    "\n",
    "X_scaler = scaler.fit(X_train)\n",
    "\n",
    "\n",
    "X_train_scaled = X_scaler.transform(X_train)\n",
    "X_test_scaled = X_scaler.transform(X_test)"
   ]
  },
  {
   "cell_type": "code",
   "execution_count": 100,
   "id": "57a5e479-c9a1-40b9-b67f-4d02c402d011",
   "metadata": {
    "tags": []
   },
   "outputs": [],
   "source": [
    "from sklearn import svm"
   ]
  },
  {
   "cell_type": "code",
   "execution_count": 101,
   "id": "fc501658-2dee-4fff-9b39-e62ce18f42cc",
   "metadata": {},
   "outputs": [
    {
     "data": {
      "text/plain": [
       "array([-1., -1., -1., -1., -1., -1., -1., -1., -1., -1.])"
      ]
     },
     "execution_count": 101,
     "metadata": {},
     "output_type": "execute_result"
    }
   ],
   "source": [
    "svm_model =svm.SVC()\n",
    " \n",
    "# Fit the model to the data using the training data\n",
    "svm_model = svm_model.fit(X_train_scaled, y_train)\n",
    " \n",
    "# Use the testing data to make the model predictions\n",
    "svm_pred = svm_model.predict(X_train_scaled)\n",
    "\n",
    "# Review the model's predicted values\n",
    "svm_pred[:10]\n"
   ]
  },
  {
   "cell_type": "code",
   "execution_count": 102,
   "id": "9dc78955-0afd-4ecd-9cdd-621980c3584e",
   "metadata": {},
   "outputs": [
    {
     "name": "stdout",
     "output_type": "stream",
     "text": [
      "              precision    recall  f1-score   support\n",
      "\n",
      "        -1.0       0.55      0.63      0.58       357\n",
      "         1.0       0.58      0.50      0.54       374\n",
      "\n",
      "    accuracy                           0.56       731\n",
      "   macro avg       0.56      0.56      0.56       731\n",
      "weighted avg       0.57      0.56      0.56       731\n",
      "\n"
     ]
    }
   ],
   "source": [
    "svm_testing_report = classification_report(y_train, svm_pred)\n",
    "\n",
    "# Print the classification report\n",
    "print(svm_testing_report)"
   ]
  },
  {
   "cell_type": "code",
   "execution_count": 103,
   "id": "aa363c24-9318-4e73-9ba1-53e7630fc454",
   "metadata": {},
   "outputs": [],
   "source": [
    "# Use the trained model to predict the trading signals for the testing data.\n",
    "testing_signal_predictions = svm_model.predict(X_test_scaled)"
   ]
  },
  {
   "cell_type": "code",
   "execution_count": 104,
   "id": "bc7358e1-aa0c-4073-93ab-1d3df6d697ea",
   "metadata": {},
   "outputs": [
    {
     "name": "stdout",
     "output_type": "stream",
     "text": [
      "              precision    recall  f1-score   support\n",
      "\n",
      "        -1.0       0.51      0.65      0.57       764\n",
      "         1.0       0.54      0.39      0.45       790\n",
      "\n",
      "    accuracy                           0.52      1554\n",
      "   macro avg       0.52      0.52      0.51      1554\n",
      "weighted avg       0.52      0.52      0.51      1554\n",
      "\n"
     ]
    }
   ],
   "source": [
    " # Evaluate the model's ability to predict the trading signal for the testing data\n",
    "svm_testing_report = classification_report(y_test, testing_signal_predictions)\n",
    "print(svm_testing_report)"
   ]
  },
  {
   "cell_type": "code",
   "execution_count": 105,
   "id": "1502fc74-1480-43d9-a951-24c5af8da0ab",
   "metadata": {},
   "outputs": [],
   "source": [
    "from sklearn.ensemble import BaggingClassifier"
   ]
  },
  {
   "cell_type": "code",
   "execution_count": 106,
   "id": "bb4fed7b-4aa1-48df-9e10-18d9f64631e9",
   "metadata": {},
   "outputs": [
    {
     "data": {
      "text/plain": [
       "array([-1., -1., -1., -1., -1., -1., -1., -1., -1.,  1.])"
      ]
     },
     "execution_count": 106,
     "metadata": {},
     "output_type": "execute_result"
    }
   ],
   "source": [
    "bc_model = BaggingClassifier()\n",
    " \n",
    "# Fit the model to the data using the training data\n",
    "bc_model = bc_model.fit(X_train_scaled, y_train)\n",
    " \n",
    "# Use the testing data to make the model predictions\n",
    "bc_pred = bc_model.predict(X_train_scaled)\n",
    "\n",
    "# Review the model's predicted values\n",
    "bc_pred[:10]"
   ]
  },
  {
   "cell_type": "code",
   "execution_count": 107,
   "id": "66a0cb30-d475-49f3-86e9-5f0e91d68c83",
   "metadata": {},
   "outputs": [
    {
     "name": "stdout",
     "output_type": "stream",
     "text": [
      "              precision    recall  f1-score   support\n",
      "\n",
      "        -1.0       0.55      0.63      0.58       357\n",
      "         1.0       0.58      0.50      0.54       374\n",
      "\n",
      "    accuracy                           0.56       731\n",
      "   macro avg       0.56      0.56      0.56       731\n",
      "weighted avg       0.57      0.56      0.56       731\n",
      "\n"
     ]
    }
   ],
   "source": [
    "bc_testing_report = classification_report(y_train, svm_pred)\n",
    "\n",
    "# Print the classification report\n",
    "print(bc_testing_report)"
   ]
  },
  {
   "cell_type": "code",
   "execution_count": 108,
   "id": "f87dd624-83ab-4820-8d22-a14914f279f6",
   "metadata": {},
   "outputs": [],
   "source": [
    "# Use the trained model to predict the trading signals for the testing data.\n",
    "testing_signal_predictions = bc_model.predict(X_test_scaled)"
   ]
  },
  {
   "cell_type": "code",
   "execution_count": 109,
   "id": "0217dfb3-05f5-4428-91fa-3eda34b1d8f3",
   "metadata": {},
   "outputs": [
    {
     "name": "stdout",
     "output_type": "stream",
     "text": [
      "              precision    recall  f1-score   support\n",
      "\n",
      "        -1.0       0.50      0.57      0.53       764\n",
      "         1.0       0.52      0.45      0.48       790\n",
      "\n",
      "    accuracy                           0.51      1554\n",
      "   macro avg       0.51      0.51      0.51      1554\n",
      "weighted avg       0.51      0.51      0.51      1554\n",
      "\n"
     ]
    }
   ],
   "source": [
    " # Evaluate the model's ability to predict the trading signal for the testing data\n",
    "bc_testing_report = classification_report(y_test, testing_signal_predictions)\n",
    "print(bc_testing_report)"
   ]
  },
  {
   "cell_type": "code",
   "execution_count": 110,
   "id": "30fb1ac0-f248-4008-81d3-fff92976701c",
   "metadata": {},
   "outputs": [],
   "source": [
    "from sklearn.ensemble import AdaBoostClassifier"
   ]
  },
  {
   "cell_type": "code",
   "execution_count": 111,
   "id": "88942a6e-04b7-4631-9a95-97dfb895bbed",
   "metadata": {},
   "outputs": [
    {
     "data": {
      "text/plain": [
       "array([-1., -1., -1., -1., -1., -1., -1., -1., -1.,  1.])"
      ]
     },
     "execution_count": 111,
     "metadata": {},
     "output_type": "execute_result"
    }
   ],
   "source": [
    "ABC_model = AdaBoostClassifier()\n",
    " \n",
    "# Fit the model to the data using the training data\n",
    "ABC_model = ABC_model.fit(X_train_scaled, y_train)\n",
    " \n",
    "# Use the testing data to make the model predictions\n",
    "ABC_pred = ABC_model.predict(X_train_scaled)\n",
    "\n",
    "# Review the model's predicted values\n",
    "ABC_pred[:10]\n"
   ]
  },
  {
   "cell_type": "code",
   "execution_count": 112,
   "id": "0c840b9a-619a-4467-b2dc-ebfa2102f917",
   "metadata": {},
   "outputs": [
    {
     "name": "stdout",
     "output_type": "stream",
     "text": [
      "              precision    recall  f1-score   support\n",
      "\n",
      "        -1.0       0.55      0.63      0.58       357\n",
      "         1.0       0.58      0.50      0.54       374\n",
      "\n",
      "    accuracy                           0.56       731\n",
      "   macro avg       0.56      0.56      0.56       731\n",
      "weighted avg       0.57      0.56      0.56       731\n",
      "\n"
     ]
    }
   ],
   "source": [
    "ABC_testing_report = classification_report(y_train, svm_pred)\n",
    "\n",
    "# Print the classification report\n",
    "print(ABC_testing_report)"
   ]
  },
  {
   "cell_type": "code",
   "execution_count": 113,
   "id": "8a5be004-82d5-4952-8c3f-454203cf5a8b",
   "metadata": {},
   "outputs": [],
   "source": [
    "# Use the trained model to predict the trading signals for the testing data.\n",
    "testing_signal_predictions = ABC_model.predict(X_test_scaled)"
   ]
  },
  {
   "cell_type": "code",
   "execution_count": 114,
   "id": "59ba5eb0-69e4-4168-bd34-8db9d87c9004",
   "metadata": {},
   "outputs": [
    {
     "name": "stdout",
     "output_type": "stream",
     "text": [
      "              precision    recall  f1-score   support\n",
      "\n",
      "        -1.0       0.52      0.55      0.53       764\n",
      "         1.0       0.54      0.51      0.52       790\n",
      "\n",
      "    accuracy                           0.53      1554\n",
      "   macro avg       0.53      0.53      0.53      1554\n",
      "weighted avg       0.53      0.53      0.53      1554\n",
      "\n"
     ]
    }
   ],
   "source": [
    " # Evaluate the model's ability to predict the trading signal for the testing data\n",
    "ABC_testing_report = classification_report(y_test, testing_signal_predictions)\n",
    "print(ABC_testing_report)"
   ]
  },
  {
   "cell_type": "code",
   "execution_count": null,
   "id": "29b1b085-9ad4-41d3-a663-e7df8bd02f9d",
   "metadata": {},
   "outputs": [],
   "source": []
  },
  {
   "cell_type": "code",
   "execution_count": 125,
   "id": "c985e545-acff-44c8-9284-131930053c65",
   "metadata": {},
   "outputs": [],
   "source": [
    "def get_dataframe(raw_data):\n",
    "    raw_data.drop(columns=[\"open\",\"high\",\"low\",\"volume\",\"trade_count\",\"vwap\"])\n",
    "    return raw_data\n",
    "    \n",
    "    "
   ]
  },
  {
   "cell_type": "code",
   "execution_count": 126,
   "id": "4babe1ef-1902-4335-a113-e3a08b9c8c7f",
   "metadata": {},
   "outputs": [
    {
     "ename": "KeyError",
     "evalue": "\"['open' 'high' 'low' 'volume' 'trade_count' 'vwap'] not found in axis\"",
     "output_type": "error",
     "traceback": [
      "\u001b[1;31m---------------------------------------------------------------------------\u001b[0m",
      "\u001b[1;31mKeyError\u001b[0m                                  Traceback (most recent call last)",
      "\u001b[1;32m~\\AppData\\Local\\Temp\\ipykernel_6200\\886771376.py\u001b[0m in \u001b[0;36m<module>\u001b[1;34m\u001b[0m\n\u001b[1;32m----> 1\u001b[1;33m \u001b[0mget_dataframe\u001b[0m\u001b[1;33m(\u001b[0m\u001b[0mETH_df\u001b[0m\u001b[1;33m)\u001b[0m\u001b[1;33m\u001b[0m\u001b[1;33m\u001b[0m\u001b[0m\n\u001b[0m",
      "\u001b[1;32m~\\AppData\\Local\\Temp\\ipykernel_6200\\2983045283.py\u001b[0m in \u001b[0;36mget_dataframe\u001b[1;34m(raw_data)\u001b[0m\n\u001b[0;32m      1\u001b[0m \u001b[1;32mdef\u001b[0m \u001b[0mget_dataframe\u001b[0m\u001b[1;33m(\u001b[0m\u001b[0mraw_data\u001b[0m\u001b[1;33m)\u001b[0m\u001b[1;33m:\u001b[0m\u001b[1;33m\u001b[0m\u001b[1;33m\u001b[0m\u001b[0m\n\u001b[0;32m      2\u001b[0m \u001b[1;33m\u001b[0m\u001b[0m\n\u001b[1;32m----> 3\u001b[1;33m     \u001b[0mraw_data\u001b[0m\u001b[1;33m.\u001b[0m\u001b[0mdrop\u001b[0m\u001b[1;33m(\u001b[0m\u001b[0mcolumns\u001b[0m\u001b[1;33m=\u001b[0m\u001b[1;33m[\u001b[0m\u001b[1;34m\"open\"\u001b[0m\u001b[1;33m,\u001b[0m\u001b[1;34m\"high\"\u001b[0m\u001b[1;33m,\u001b[0m\u001b[1;34m\"low\"\u001b[0m\u001b[1;33m,\u001b[0m\u001b[1;34m\"volume\"\u001b[0m\u001b[1;33m,\u001b[0m\u001b[1;34m\"trade_count\"\u001b[0m\u001b[1;33m,\u001b[0m\u001b[1;34m\"vwap\"\u001b[0m\u001b[1;33m]\u001b[0m\u001b[1;33m)\u001b[0m\u001b[1;33m\u001b[0m\u001b[1;33m\u001b[0m\u001b[0m\n\u001b[0m\u001b[0;32m      4\u001b[0m     \u001b[1;32mreturn\u001b[0m \u001b[0mraw_data\u001b[0m\u001b[1;33m\u001b[0m\u001b[1;33m\u001b[0m\u001b[0m\n\u001b[0;32m      5\u001b[0m \u001b[1;33m\u001b[0m\u001b[0m\n",
      "\u001b[1;32mC:\\ProgramData\\Anaconda3\\envs\\dev\\lib\\site-packages\\pandas\\util\\_decorators.py\u001b[0m in \u001b[0;36mwrapper\u001b[1;34m(*args, **kwargs)\u001b[0m\n\u001b[0;32m    309\u001b[0m                     \u001b[0mstacklevel\u001b[0m\u001b[1;33m=\u001b[0m\u001b[0mstacklevel\u001b[0m\u001b[1;33m,\u001b[0m\u001b[1;33m\u001b[0m\u001b[1;33m\u001b[0m\u001b[0m\n\u001b[0;32m    310\u001b[0m                 )\n\u001b[1;32m--> 311\u001b[1;33m             \u001b[1;32mreturn\u001b[0m \u001b[0mfunc\u001b[0m\u001b[1;33m(\u001b[0m\u001b[1;33m*\u001b[0m\u001b[0margs\u001b[0m\u001b[1;33m,\u001b[0m \u001b[1;33m**\u001b[0m\u001b[0mkwargs\u001b[0m\u001b[1;33m)\u001b[0m\u001b[1;33m\u001b[0m\u001b[1;33m\u001b[0m\u001b[0m\n\u001b[0m\u001b[0;32m    312\u001b[0m \u001b[1;33m\u001b[0m\u001b[0m\n\u001b[0;32m    313\u001b[0m         \u001b[1;32mreturn\u001b[0m \u001b[0mwrapper\u001b[0m\u001b[1;33m\u001b[0m\u001b[1;33m\u001b[0m\u001b[0m\n",
      "\u001b[1;32mC:\\ProgramData\\Anaconda3\\envs\\dev\\lib\\site-packages\\pandas\\core\\frame.py\u001b[0m in \u001b[0;36mdrop\u001b[1;34m(self, labels, axis, index, columns, level, inplace, errors)\u001b[0m\n\u001b[0;32m   4911\u001b[0m             \u001b[0mlevel\u001b[0m\u001b[1;33m=\u001b[0m\u001b[0mlevel\u001b[0m\u001b[1;33m,\u001b[0m\u001b[1;33m\u001b[0m\u001b[1;33m\u001b[0m\u001b[0m\n\u001b[0;32m   4912\u001b[0m             \u001b[0minplace\u001b[0m\u001b[1;33m=\u001b[0m\u001b[0minplace\u001b[0m\u001b[1;33m,\u001b[0m\u001b[1;33m\u001b[0m\u001b[1;33m\u001b[0m\u001b[0m\n\u001b[1;32m-> 4913\u001b[1;33m             \u001b[0merrors\u001b[0m\u001b[1;33m=\u001b[0m\u001b[0merrors\u001b[0m\u001b[1;33m,\u001b[0m\u001b[1;33m\u001b[0m\u001b[1;33m\u001b[0m\u001b[0m\n\u001b[0m\u001b[0;32m   4914\u001b[0m         )\n\u001b[0;32m   4915\u001b[0m \u001b[1;33m\u001b[0m\u001b[0m\n",
      "\u001b[1;32mC:\\ProgramData\\Anaconda3\\envs\\dev\\lib\\site-packages\\pandas\\core\\generic.py\u001b[0m in \u001b[0;36mdrop\u001b[1;34m(self, labels, axis, index, columns, level, inplace, errors)\u001b[0m\n\u001b[0;32m   4148\u001b[0m         \u001b[1;32mfor\u001b[0m \u001b[0maxis\u001b[0m\u001b[1;33m,\u001b[0m \u001b[0mlabels\u001b[0m \u001b[1;32min\u001b[0m \u001b[0maxes\u001b[0m\u001b[1;33m.\u001b[0m\u001b[0mitems\u001b[0m\u001b[1;33m(\u001b[0m\u001b[1;33m)\u001b[0m\u001b[1;33m:\u001b[0m\u001b[1;33m\u001b[0m\u001b[1;33m\u001b[0m\u001b[0m\n\u001b[0;32m   4149\u001b[0m             \u001b[1;32mif\u001b[0m \u001b[0mlabels\u001b[0m \u001b[1;32mis\u001b[0m \u001b[1;32mnot\u001b[0m \u001b[1;32mNone\u001b[0m\u001b[1;33m:\u001b[0m\u001b[1;33m\u001b[0m\u001b[1;33m\u001b[0m\u001b[0m\n\u001b[1;32m-> 4150\u001b[1;33m                 \u001b[0mobj\u001b[0m \u001b[1;33m=\u001b[0m \u001b[0mobj\u001b[0m\u001b[1;33m.\u001b[0m\u001b[0m_drop_axis\u001b[0m\u001b[1;33m(\u001b[0m\u001b[0mlabels\u001b[0m\u001b[1;33m,\u001b[0m \u001b[0maxis\u001b[0m\u001b[1;33m,\u001b[0m \u001b[0mlevel\u001b[0m\u001b[1;33m=\u001b[0m\u001b[0mlevel\u001b[0m\u001b[1;33m,\u001b[0m \u001b[0merrors\u001b[0m\u001b[1;33m=\u001b[0m\u001b[0merrors\u001b[0m\u001b[1;33m)\u001b[0m\u001b[1;33m\u001b[0m\u001b[1;33m\u001b[0m\u001b[0m\n\u001b[0m\u001b[0;32m   4151\u001b[0m \u001b[1;33m\u001b[0m\u001b[0m\n\u001b[0;32m   4152\u001b[0m         \u001b[1;32mif\u001b[0m \u001b[0minplace\u001b[0m\u001b[1;33m:\u001b[0m\u001b[1;33m\u001b[0m\u001b[1;33m\u001b[0m\u001b[0m\n",
      "\u001b[1;32mC:\\ProgramData\\Anaconda3\\envs\\dev\\lib\\site-packages\\pandas\\core\\generic.py\u001b[0m in \u001b[0;36m_drop_axis\u001b[1;34m(self, labels, axis, level, errors)\u001b[0m\n\u001b[0;32m   4183\u001b[0m                 \u001b[0mnew_axis\u001b[0m \u001b[1;33m=\u001b[0m \u001b[0maxis\u001b[0m\u001b[1;33m.\u001b[0m\u001b[0mdrop\u001b[0m\u001b[1;33m(\u001b[0m\u001b[0mlabels\u001b[0m\u001b[1;33m,\u001b[0m \u001b[0mlevel\u001b[0m\u001b[1;33m=\u001b[0m\u001b[0mlevel\u001b[0m\u001b[1;33m,\u001b[0m \u001b[0merrors\u001b[0m\u001b[1;33m=\u001b[0m\u001b[0merrors\u001b[0m\u001b[1;33m)\u001b[0m\u001b[1;33m\u001b[0m\u001b[1;33m\u001b[0m\u001b[0m\n\u001b[0;32m   4184\u001b[0m             \u001b[1;32melse\u001b[0m\u001b[1;33m:\u001b[0m\u001b[1;33m\u001b[0m\u001b[1;33m\u001b[0m\u001b[0m\n\u001b[1;32m-> 4185\u001b[1;33m                 \u001b[0mnew_axis\u001b[0m \u001b[1;33m=\u001b[0m \u001b[0maxis\u001b[0m\u001b[1;33m.\u001b[0m\u001b[0mdrop\u001b[0m\u001b[1;33m(\u001b[0m\u001b[0mlabels\u001b[0m\u001b[1;33m,\u001b[0m \u001b[0merrors\u001b[0m\u001b[1;33m=\u001b[0m\u001b[0merrors\u001b[0m\u001b[1;33m)\u001b[0m\u001b[1;33m\u001b[0m\u001b[1;33m\u001b[0m\u001b[0m\n\u001b[0m\u001b[0;32m   4186\u001b[0m             \u001b[0mresult\u001b[0m \u001b[1;33m=\u001b[0m \u001b[0mself\u001b[0m\u001b[1;33m.\u001b[0m\u001b[0mreindex\u001b[0m\u001b[1;33m(\u001b[0m\u001b[1;33m**\u001b[0m\u001b[1;33m{\u001b[0m\u001b[0maxis_name\u001b[0m\u001b[1;33m:\u001b[0m \u001b[0mnew_axis\u001b[0m\u001b[1;33m}\u001b[0m\u001b[1;33m)\u001b[0m\u001b[1;33m\u001b[0m\u001b[1;33m\u001b[0m\u001b[0m\n\u001b[0;32m   4187\u001b[0m \u001b[1;33m\u001b[0m\u001b[0m\n",
      "\u001b[1;32mC:\\ProgramData\\Anaconda3\\envs\\dev\\lib\\site-packages\\pandas\\core\\indexes\\base.py\u001b[0m in \u001b[0;36mdrop\u001b[1;34m(self, labels, errors)\u001b[0m\n\u001b[0;32m   6015\u001b[0m         \u001b[1;32mif\u001b[0m \u001b[0mmask\u001b[0m\u001b[1;33m.\u001b[0m\u001b[0many\u001b[0m\u001b[1;33m(\u001b[0m\u001b[1;33m)\u001b[0m\u001b[1;33m:\u001b[0m\u001b[1;33m\u001b[0m\u001b[1;33m\u001b[0m\u001b[0m\n\u001b[0;32m   6016\u001b[0m             \u001b[1;32mif\u001b[0m \u001b[0merrors\u001b[0m \u001b[1;33m!=\u001b[0m \u001b[1;34m\"ignore\"\u001b[0m\u001b[1;33m:\u001b[0m\u001b[1;33m\u001b[0m\u001b[1;33m\u001b[0m\u001b[0m\n\u001b[1;32m-> 6017\u001b[1;33m                 \u001b[1;32mraise\u001b[0m \u001b[0mKeyError\u001b[0m\u001b[1;33m(\u001b[0m\u001b[1;34mf\"{labels[mask]} not found in axis\"\u001b[0m\u001b[1;33m)\u001b[0m\u001b[1;33m\u001b[0m\u001b[1;33m\u001b[0m\u001b[0m\n\u001b[0m\u001b[0;32m   6018\u001b[0m             \u001b[0mindexer\u001b[0m \u001b[1;33m=\u001b[0m \u001b[0mindexer\u001b[0m\u001b[1;33m[\u001b[0m\u001b[1;33m~\u001b[0m\u001b[0mmask\u001b[0m\u001b[1;33m]\u001b[0m\u001b[1;33m\u001b[0m\u001b[1;33m\u001b[0m\u001b[0m\n\u001b[0;32m   6019\u001b[0m         \u001b[1;32mreturn\u001b[0m \u001b[0mself\u001b[0m\u001b[1;33m.\u001b[0m\u001b[0mdelete\u001b[0m\u001b[1;33m(\u001b[0m\u001b[0mindexer\u001b[0m\u001b[1;33m)\u001b[0m\u001b[1;33m\u001b[0m\u001b[1;33m\u001b[0m\u001b[0m\n",
      "\u001b[1;31mKeyError\u001b[0m: \"['open' 'high' 'low' 'volume' 'trade_count' 'vwap'] not found in axis\""
     ]
    }
   ],
   "source": [
    "get_dataframe(ETH_df)"
   ]
  },
  {
   "cell_type": "code",
   "execution_count": null,
   "id": "d6140410-e075-4761-9df5-63ab7d5b84b2",
   "metadata": {},
   "outputs": [],
   "source": []
  }
 ],
 "metadata": {
  "kernelspec": {
   "display_name": "Python 3 (ipykernel)",
   "language": "python",
   "name": "python3"
  },
  "language_info": {
   "codemirror_mode": {
    "name": "ipython",
    "version": 3
   },
   "file_extension": ".py",
   "mimetype": "text/x-python",
   "name": "python",
   "nbconvert_exporter": "python",
   "pygments_lexer": "ipython3",
   "version": "3.7.13"
  }
 },
 "nbformat": 4,
 "nbformat_minor": 5
}
