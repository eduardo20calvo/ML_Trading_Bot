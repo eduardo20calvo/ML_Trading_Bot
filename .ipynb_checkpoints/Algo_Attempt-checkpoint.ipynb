{
 "cells": [
  {
   "cell_type": "code",
   "execution_count": 1,
   "id": "10fac222-73f5-4f74-aaa8-eebc5458aeda",
   "metadata": {},
   "outputs": [],
   "source": [
    "import numpy as np\n",
    "import pandas as pd \n",
    "import requests\n",
    "import xlsxwriter\n",
    "import math\n",
    "import os\n",
    "import requests\n",
    "import pandas as pd\n",
    "from dotenv import load_dotenv\n",
    "import alpaca_trade_api as tradeapi\n",
    "from alpaca_trade_api.rest import TimeFrame \n",
    "%matplotlib inline"
   ]
  },
  {
   "cell_type": "code",
   "execution_count": 2,
   "id": "c469cd07-2084-4780-aa90-348d059884ed",
   "metadata": {},
   "outputs": [],
   "source": [
    "from sklearn.preprocessing import StandardScaler\n",
    "from pandas.tseries.offsets import DateOffset\n",
    "from sklearn.metrics import classification_report"
   ]
  },
  {
   "cell_type": "code",
   "execution_count": 3,
   "id": "3d938a55-2d97-4dce-95c1-6dc1d5300be9",
   "metadata": {},
   "outputs": [],
   "source": [
    "load_dotenv()\n",
    "api_key = os.getenv('ALPACA_API_KEY')\n",
    "api_secret = os.getenv('ALPACA_SECRET_KEY')"
   ]
  },
  {
   "cell_type": "code",
   "execution_count": 4,
   "id": "c556417b-1cd7-47cd-8342-b0a2fa649ae2",
   "metadata": {},
   "outputs": [
    {
     "data": {
      "text/html": [
       "<div>\n",
       "<style scoped>\n",
       "    .dataframe tbody tr th:only-of-type {\n",
       "        vertical-align: middle;\n",
       "    }\n",
       "\n",
       "    .dataframe tbody tr th {\n",
       "        vertical-align: top;\n",
       "    }\n",
       "\n",
       "    .dataframe thead th {\n",
       "        text-align: right;\n",
       "    }\n",
       "</style>\n",
       "<table border=\"1\" class=\"dataframe\">\n",
       "  <thead>\n",
       "    <tr style=\"text-align: right;\">\n",
       "      <th></th>\n",
       "      <th>exchange</th>\n",
       "      <th>open</th>\n",
       "      <th>high</th>\n",
       "      <th>low</th>\n",
       "      <th>close</th>\n",
       "      <th>volume</th>\n",
       "      <th>trade_count</th>\n",
       "      <th>vwap</th>\n",
       "    </tr>\n",
       "    <tr>\n",
       "      <th>timestamp</th>\n",
       "      <th></th>\n",
       "      <th></th>\n",
       "      <th></th>\n",
       "      <th></th>\n",
       "      <th></th>\n",
       "      <th></th>\n",
       "      <th></th>\n",
       "      <th></th>\n",
       "    </tr>\n",
       "  </thead>\n",
       "  <tbody>\n",
       "    <tr>\n",
       "      <th>2022-08-20 05:00:00+00:00</th>\n",
       "      <td>ERSX</td>\n",
       "      <td>1635.81</td>\n",
       "      <td>1649.62</td>\n",
       "      <td>1527.15</td>\n",
       "      <td>1589.94</td>\n",
       "      <td>303.359683</td>\n",
       "      <td>237</td>\n",
       "      <td>1585.198199</td>\n",
       "    </tr>\n",
       "    <tr>\n",
       "      <th>2022-08-20 05:00:00+00:00</th>\n",
       "      <td>FTXU</td>\n",
       "      <td>1648.20</td>\n",
       "      <td>1656.50</td>\n",
       "      <td>1524.20</td>\n",
       "      <td>1583.40</td>\n",
       "      <td>88148.353000</td>\n",
       "      <td>39523</td>\n",
       "      <td>1592.622357</td>\n",
       "    </tr>\n",
       "    <tr>\n",
       "      <th>2022-08-21 05:00:00+00:00</th>\n",
       "      <td>CBSE</td>\n",
       "      <td>1583.30</td>\n",
       "      <td>1646.69</td>\n",
       "      <td>1562.27</td>\n",
       "      <td>1607.59</td>\n",
       "      <td>402854.147811</td>\n",
       "      <td>945282</td>\n",
       "      <td>1611.916031</td>\n",
       "    </tr>\n",
       "    <tr>\n",
       "      <th>2022-08-21 05:00:00+00:00</th>\n",
       "      <td>ERSX</td>\n",
       "      <td>1580.00</td>\n",
       "      <td>1639.13</td>\n",
       "      <td>1528.00</td>\n",
       "      <td>1606.94</td>\n",
       "      <td>374.913221</td>\n",
       "      <td>155</td>\n",
       "      <td>1608.079824</td>\n",
       "    </tr>\n",
       "    <tr>\n",
       "      <th>2022-08-21 05:00:00+00:00</th>\n",
       "      <td>FTXU</td>\n",
       "      <td>1583.40</td>\n",
       "      <td>1646.60</td>\n",
       "      <td>1563.40</td>\n",
       "      <td>1607.80</td>\n",
       "      <td>73192.668000</td>\n",
       "      <td>36672</td>\n",
       "      <td>1610.898730</td>\n",
       "    </tr>\n",
       "  </tbody>\n",
       "</table>\n",
       "</div>"
      ],
      "text/plain": [
       "                          exchange     open     high      low    close  \\\n",
       "timestamp                                                                \n",
       "2022-08-20 05:00:00+00:00     ERSX  1635.81  1649.62  1527.15  1589.94   \n",
       "2022-08-20 05:00:00+00:00     FTXU  1648.20  1656.50  1524.20  1583.40   \n",
       "2022-08-21 05:00:00+00:00     CBSE  1583.30  1646.69  1562.27  1607.59   \n",
       "2022-08-21 05:00:00+00:00     ERSX  1580.00  1639.13  1528.00  1606.94   \n",
       "2022-08-21 05:00:00+00:00     FTXU  1583.40  1646.60  1563.40  1607.80   \n",
       "\n",
       "                                  volume  trade_count         vwap  \n",
       "timestamp                                                           \n",
       "2022-08-20 05:00:00+00:00     303.359683          237  1585.198199  \n",
       "2022-08-20 05:00:00+00:00   88148.353000        39523  1592.622357  \n",
       "2022-08-21 05:00:00+00:00  402854.147811       945282  1611.916031  \n",
       "2022-08-21 05:00:00+00:00     374.913221          155  1608.079824  \n",
       "2022-08-21 05:00:00+00:00   73192.668000        36672  1610.898730  "
      ]
     },
     "execution_count": 4,
     "metadata": {},
     "output_type": "execute_result"
    }
   ],
   "source": [
    "base_url = 'https://paper-api.alpaca.markets'\n",
    "\n",
    "api = tradeapi.REST(api_key, api_secret, base_url, api_version='v2')\n",
    "\n",
    "account = api.get_account()\n",
    "\n",
    "\n",
    "\n",
    "\n",
    "\n",
    "# Create the Alpaca API object\n",
    "# YOUR CODE HERE!\n",
    "ETH_price = api.get_crypto_bars('ETHUSD',  TimeFrame.Day, \"2010-06-08\", \"2022-08-21\")\n",
    "ETH_df = ETH_price.df\n",
    "\n",
    "ETH_df.tail()"
   ]
  },
  {
   "cell_type": "code",
   "execution_count": 5,
   "id": "61c20d21-a1d0-4372-b99a-8a0058e98d84",
   "metadata": {},
   "outputs": [],
   "source": [
    "ETH_df = ETH_df.drop(columns=[\"open\",\"high\",\"low\",\"volume\",\"trade_count\",\"vwap\"])\n"
   ]
  },
  {
   "cell_type": "code",
   "execution_count": 6,
   "id": "ac5a09ea-b42a-44bb-acdd-5e25263025fa",
   "metadata": {},
   "outputs": [
    {
     "data": {
      "text/html": [
       "<div>\n",
       "<style scoped>\n",
       "    .dataframe tbody tr th:only-of-type {\n",
       "        vertical-align: middle;\n",
       "    }\n",
       "\n",
       "    .dataframe tbody tr th {\n",
       "        vertical-align: top;\n",
       "    }\n",
       "\n",
       "    .dataframe thead th {\n",
       "        text-align: right;\n",
       "    }\n",
       "</style>\n",
       "<table border=\"1\" class=\"dataframe\">\n",
       "  <thead>\n",
       "    <tr style=\"text-align: right;\">\n",
       "      <th></th>\n",
       "      <th>exchange</th>\n",
       "      <th>close</th>\n",
       "    </tr>\n",
       "    <tr>\n",
       "      <th>timestamp</th>\n",
       "      <th></th>\n",
       "      <th></th>\n",
       "    </tr>\n",
       "  </thead>\n",
       "  <tbody>\n",
       "    <tr>\n",
       "      <th>2016-05-17 05:00:00+00:00</th>\n",
       "      <td>CBSE</td>\n",
       "      <td>14.00</td>\n",
       "    </tr>\n",
       "    <tr>\n",
       "      <th>2016-05-18 05:00:00+00:00</th>\n",
       "      <td>CBSE</td>\n",
       "      <td>13.18</td>\n",
       "    </tr>\n",
       "    <tr>\n",
       "      <th>2016-05-19 05:00:00+00:00</th>\n",
       "      <td>CBSE</td>\n",
       "      <td>14.82</td>\n",
       "    </tr>\n",
       "    <tr>\n",
       "      <th>2016-05-20 05:00:00+00:00</th>\n",
       "      <td>CBSE</td>\n",
       "      <td>14.17</td>\n",
       "    </tr>\n",
       "    <tr>\n",
       "      <th>2016-05-23 05:00:00+00:00</th>\n",
       "      <td>CBSE</td>\n",
       "      <td>13.74</td>\n",
       "    </tr>\n",
       "  </tbody>\n",
       "</table>\n",
       "</div>"
      ],
      "text/plain": [
       "                          exchange  close\n",
       "timestamp                                \n",
       "2016-05-17 05:00:00+00:00     CBSE  14.00\n",
       "2016-05-18 05:00:00+00:00     CBSE  13.18\n",
       "2016-05-19 05:00:00+00:00     CBSE  14.82\n",
       "2016-05-20 05:00:00+00:00     CBSE  14.17\n",
       "2016-05-23 05:00:00+00:00     CBSE  13.74"
      ]
     },
     "execution_count": 6,
     "metadata": {},
     "output_type": "execute_result"
    }
   ],
   "source": [
    "ETH_df = ETH_df[ETH_df['exchange'].str.contains(\"ERSX|FTXU\")==False]\n",
    "\n",
    "\n",
    "ETH_df.head()"
   ]
  },
  {
   "cell_type": "code",
   "execution_count": 7,
   "id": "47ea4782-cdfd-4fa8-9554-5a25564f4d42",
   "metadata": {},
   "outputs": [],
   "source": [
    "ETH_df[\"Actual Returns\"] = ETH_df[\"close\"].pct_change()"
   ]
  },
  {
   "cell_type": "code",
   "execution_count": 8,
   "id": "3e9827b5-fdad-4859-844c-e1c184d8102a",
   "metadata": {},
   "outputs": [],
   "source": [
    "ETH_df = ETH_df.dropna()"
   ]
  },
  {
   "cell_type": "code",
   "execution_count": 9,
   "id": "717f32e2-7398-41e7-a7e7-8266083882ab",
   "metadata": {},
   "outputs": [
    {
     "data": {
      "text/html": [
       "<div>\n",
       "<style scoped>\n",
       "    .dataframe tbody tr th:only-of-type {\n",
       "        vertical-align: middle;\n",
       "    }\n",
       "\n",
       "    .dataframe tbody tr th {\n",
       "        vertical-align: top;\n",
       "    }\n",
       "\n",
       "    .dataframe thead th {\n",
       "        text-align: right;\n",
       "    }\n",
       "</style>\n",
       "<table border=\"1\" class=\"dataframe\">\n",
       "  <thead>\n",
       "    <tr style=\"text-align: right;\">\n",
       "      <th></th>\n",
       "      <th>exchange</th>\n",
       "      <th>close</th>\n",
       "      <th>Actual Returns</th>\n",
       "    </tr>\n",
       "    <tr>\n",
       "      <th>timestamp</th>\n",
       "      <th></th>\n",
       "      <th></th>\n",
       "      <th></th>\n",
       "    </tr>\n",
       "  </thead>\n",
       "  <tbody>\n",
       "    <tr>\n",
       "      <th>2016-05-18 05:00:00+00:00</th>\n",
       "      <td>CBSE</td>\n",
       "      <td>13.18</td>\n",
       "      <td>-0.058571</td>\n",
       "    </tr>\n",
       "    <tr>\n",
       "      <th>2016-05-19 05:00:00+00:00</th>\n",
       "      <td>CBSE</td>\n",
       "      <td>14.82</td>\n",
       "      <td>0.124431</td>\n",
       "    </tr>\n",
       "    <tr>\n",
       "      <th>2016-05-20 05:00:00+00:00</th>\n",
       "      <td>CBSE</td>\n",
       "      <td>14.17</td>\n",
       "      <td>-0.043860</td>\n",
       "    </tr>\n",
       "    <tr>\n",
       "      <th>2016-05-23 05:00:00+00:00</th>\n",
       "      <td>CBSE</td>\n",
       "      <td>13.74</td>\n",
       "      <td>-0.030346</td>\n",
       "    </tr>\n",
       "    <tr>\n",
       "      <th>2016-05-24 05:00:00+00:00</th>\n",
       "      <td>CBSE</td>\n",
       "      <td>12.94</td>\n",
       "      <td>-0.058224</td>\n",
       "    </tr>\n",
       "    <tr>\n",
       "      <th>...</th>\n",
       "      <td>...</td>\n",
       "      <td>...</td>\n",
       "      <td>...</td>\n",
       "    </tr>\n",
       "    <tr>\n",
       "      <th>2022-08-17 05:00:00+00:00</th>\n",
       "      <td>CBSE</td>\n",
       "      <td>1844.30</td>\n",
       "      <td>-0.029648</td>\n",
       "    </tr>\n",
       "    <tr>\n",
       "      <th>2022-08-18 05:00:00+00:00</th>\n",
       "      <td>CBSE</td>\n",
       "      <td>1818.78</td>\n",
       "      <td>-0.013837</td>\n",
       "    </tr>\n",
       "    <tr>\n",
       "      <th>2022-08-19 05:00:00+00:00</th>\n",
       "      <td>CBSE</td>\n",
       "      <td>1647.72</td>\n",
       "      <td>-0.094052</td>\n",
       "    </tr>\n",
       "    <tr>\n",
       "      <th>2022-08-20 05:00:00+00:00</th>\n",
       "      <td>CBSE</td>\n",
       "      <td>1583.30</td>\n",
       "      <td>-0.039096</td>\n",
       "    </tr>\n",
       "    <tr>\n",
       "      <th>2022-08-21 05:00:00+00:00</th>\n",
       "      <td>CBSE</td>\n",
       "      <td>1607.59</td>\n",
       "      <td>0.015341</td>\n",
       "    </tr>\n",
       "  </tbody>\n",
       "</table>\n",
       "<p>2285 rows × 3 columns</p>\n",
       "</div>"
      ],
      "text/plain": [
       "                          exchange    close  Actual Returns\n",
       "timestamp                                                  \n",
       "2016-05-18 05:00:00+00:00     CBSE    13.18       -0.058571\n",
       "2016-05-19 05:00:00+00:00     CBSE    14.82        0.124431\n",
       "2016-05-20 05:00:00+00:00     CBSE    14.17       -0.043860\n",
       "2016-05-23 05:00:00+00:00     CBSE    13.74       -0.030346\n",
       "2016-05-24 05:00:00+00:00     CBSE    12.94       -0.058224\n",
       "...                            ...      ...             ...\n",
       "2022-08-17 05:00:00+00:00     CBSE  1844.30       -0.029648\n",
       "2022-08-18 05:00:00+00:00     CBSE  1818.78       -0.013837\n",
       "2022-08-19 05:00:00+00:00     CBSE  1647.72       -0.094052\n",
       "2022-08-20 05:00:00+00:00     CBSE  1583.30       -0.039096\n",
       "2022-08-21 05:00:00+00:00     CBSE  1607.59        0.015341\n",
       "\n",
       "[2285 rows x 3 columns]"
      ]
     },
     "execution_count": 9,
     "metadata": {},
     "output_type": "execute_result"
    }
   ],
   "source": [
    "ETH_df"
   ]
  },
  {
   "cell_type": "code",
   "execution_count": 10,
   "id": "2c175055-3ad7-4666-961e-b069065cfc31",
   "metadata": {},
   "outputs": [],
   "source": [
    "short_window = 4\n",
    "long_window = 100\n",
    "\n",
    "ETH_df['SMA_Fast'] = ETH_df.loc[:, [\"close\"]].rolling(window=short_window).mean()\n",
    "ETH_df['SMA_Slow'] = ETH_df.loc[:, [\"close\"]].rolling(window=long_window).mean()"
   ]
  },
  {
   "cell_type": "code",
   "execution_count": 11,
   "id": "d886a8bc-e6e3-4786-9229-94a6720f994e",
   "metadata": {},
   "outputs": [],
   "source": [
    "ETH_df = ETH_df.dropna()"
   ]
  },
  {
   "cell_type": "code",
   "execution_count": 12,
   "id": "7ce7d1e2-9a66-4e12-8386-2d67d32672dc",
   "metadata": {},
   "outputs": [
    {
     "data": {
      "text/html": [
       "<div>\n",
       "<style scoped>\n",
       "    .dataframe tbody tr th:only-of-type {\n",
       "        vertical-align: middle;\n",
       "    }\n",
       "\n",
       "    .dataframe tbody tr th {\n",
       "        vertical-align: top;\n",
       "    }\n",
       "\n",
       "    .dataframe thead th {\n",
       "        text-align: right;\n",
       "    }\n",
       "</style>\n",
       "<table border=\"1\" class=\"dataframe\">\n",
       "  <thead>\n",
       "    <tr style=\"text-align: right;\">\n",
       "      <th></th>\n",
       "      <th>exchange</th>\n",
       "      <th>close</th>\n",
       "      <th>Actual Returns</th>\n",
       "      <th>SMA_Fast</th>\n",
       "      <th>SMA_Slow</th>\n",
       "    </tr>\n",
       "    <tr>\n",
       "      <th>timestamp</th>\n",
       "      <th></th>\n",
       "      <th></th>\n",
       "      <th></th>\n",
       "      <th></th>\n",
       "      <th></th>\n",
       "    </tr>\n",
       "  </thead>\n",
       "  <tbody>\n",
       "    <tr>\n",
       "      <th>2016-08-27 05:00:00+00:00</th>\n",
       "      <td>CBSE</td>\n",
       "      <td>11.13</td>\n",
       "      <td>-0.013298</td>\n",
       "      <td>11.2325</td>\n",
       "      <td>12.6459</td>\n",
       "    </tr>\n",
       "    <tr>\n",
       "      <th>2016-08-28 05:00:00+00:00</th>\n",
       "      <td>CBSE</td>\n",
       "      <td>11.01</td>\n",
       "      <td>-0.010782</td>\n",
       "      <td>11.1925</td>\n",
       "      <td>12.6242</td>\n",
       "    </tr>\n",
       "    <tr>\n",
       "      <th>2016-08-29 05:00:00+00:00</th>\n",
       "      <td>CBSE</td>\n",
       "      <td>10.97</td>\n",
       "      <td>-0.003633</td>\n",
       "      <td>11.0975</td>\n",
       "      <td>12.5857</td>\n",
       "    </tr>\n",
       "    <tr>\n",
       "      <th>2016-08-30 05:00:00+00:00</th>\n",
       "      <td>CBSE</td>\n",
       "      <td>11.16</td>\n",
       "      <td>0.017320</td>\n",
       "      <td>11.0675</td>\n",
       "      <td>12.5556</td>\n",
       "    </tr>\n",
       "    <tr>\n",
       "      <th>2016-08-31 05:00:00+00:00</th>\n",
       "      <td>CBSE</td>\n",
       "      <td>12.05</td>\n",
       "      <td>0.079749</td>\n",
       "      <td>11.2975</td>\n",
       "      <td>12.5387</td>\n",
       "    </tr>\n",
       "    <tr>\n",
       "      <th>...</th>\n",
       "      <td>...</td>\n",
       "      <td>...</td>\n",
       "      <td>...</td>\n",
       "      <td>...</td>\n",
       "      <td>...</td>\n",
       "    </tr>\n",
       "    <tr>\n",
       "      <th>2022-08-17 05:00:00+00:00</th>\n",
       "      <td>CBSE</td>\n",
       "      <td>1844.30</td>\n",
       "      <td>-0.029648</td>\n",
       "      <td>1900.1400</td>\n",
       "      <td>1568.1741</td>\n",
       "    </tr>\n",
       "    <tr>\n",
       "      <th>2022-08-18 05:00:00+00:00</th>\n",
       "      <td>CBSE</td>\n",
       "      <td>1818.78</td>\n",
       "      <td>-0.013837</td>\n",
       "      <td>1858.9475</td>\n",
       "      <td>1562.8377</td>\n",
       "    </tr>\n",
       "    <tr>\n",
       "      <th>2022-08-19 05:00:00+00:00</th>\n",
       "      <td>CBSE</td>\n",
       "      <td>1647.72</td>\n",
       "      <td>-0.094052</td>\n",
       "      <td>1802.8625</td>\n",
       "      <td>1560.3954</td>\n",
       "    </tr>\n",
       "    <tr>\n",
       "      <th>2022-08-20 05:00:00+00:00</th>\n",
       "      <td>CBSE</td>\n",
       "      <td>1583.30</td>\n",
       "      <td>-0.039096</td>\n",
       "      <td>1723.5250</td>\n",
       "      <td>1555.3900</td>\n",
       "    </tr>\n",
       "    <tr>\n",
       "      <th>2022-08-21 05:00:00+00:00</th>\n",
       "      <td>CBSE</td>\n",
       "      <td>1607.59</td>\n",
       "      <td>0.015341</td>\n",
       "      <td>1664.3475</td>\n",
       "      <td>1551.2769</td>\n",
       "    </tr>\n",
       "  </tbody>\n",
       "</table>\n",
       "<p>2186 rows × 5 columns</p>\n",
       "</div>"
      ],
      "text/plain": [
       "                          exchange    close  Actual Returns   SMA_Fast  \\\n",
       "timestamp                                                                \n",
       "2016-08-27 05:00:00+00:00     CBSE    11.13       -0.013298    11.2325   \n",
       "2016-08-28 05:00:00+00:00     CBSE    11.01       -0.010782    11.1925   \n",
       "2016-08-29 05:00:00+00:00     CBSE    10.97       -0.003633    11.0975   \n",
       "2016-08-30 05:00:00+00:00     CBSE    11.16        0.017320    11.0675   \n",
       "2016-08-31 05:00:00+00:00     CBSE    12.05        0.079749    11.2975   \n",
       "...                            ...      ...             ...        ...   \n",
       "2022-08-17 05:00:00+00:00     CBSE  1844.30       -0.029648  1900.1400   \n",
       "2022-08-18 05:00:00+00:00     CBSE  1818.78       -0.013837  1858.9475   \n",
       "2022-08-19 05:00:00+00:00     CBSE  1647.72       -0.094052  1802.8625   \n",
       "2022-08-20 05:00:00+00:00     CBSE  1583.30       -0.039096  1723.5250   \n",
       "2022-08-21 05:00:00+00:00     CBSE  1607.59        0.015341  1664.3475   \n",
       "\n",
       "                            SMA_Slow  \n",
       "timestamp                             \n",
       "2016-08-27 05:00:00+00:00    12.6459  \n",
       "2016-08-28 05:00:00+00:00    12.6242  \n",
       "2016-08-29 05:00:00+00:00    12.5857  \n",
       "2016-08-30 05:00:00+00:00    12.5556  \n",
       "2016-08-31 05:00:00+00:00    12.5387  \n",
       "...                              ...  \n",
       "2022-08-17 05:00:00+00:00  1568.1741  \n",
       "2022-08-18 05:00:00+00:00  1562.8377  \n",
       "2022-08-19 05:00:00+00:00  1560.3954  \n",
       "2022-08-20 05:00:00+00:00  1555.3900  \n",
       "2022-08-21 05:00:00+00:00  1551.2769  \n",
       "\n",
       "[2186 rows x 5 columns]"
      ]
     },
     "execution_count": 12,
     "metadata": {},
     "output_type": "execute_result"
    }
   ],
   "source": [
    "ETH_df"
   ]
  },
  {
   "cell_type": "code",
   "execution_count": 13,
   "id": "bf247bf7-fd13-4fd5-9e68-95a3708c7e57",
   "metadata": {},
   "outputs": [
    {
     "name": "stderr",
     "output_type": "stream",
     "text": [
      "C:\\Users\\eduar\\anaconda3\\envs\\dev\\lib\\site-packages\\ipykernel_launcher.py:1: SettingWithCopyWarning: \n",
      "A value is trying to be set on a copy of a slice from a DataFrame.\n",
      "Try using .loc[row_indexer,col_indexer] = value instead\n",
      "\n",
      "See the caveats in the documentation: https://pandas.pydata.org/pandas-docs/stable/user_guide/indexing.html#returning-a-view-versus-a-copy\n",
      "  \"\"\"Entry point for launching an IPython kernel.\n",
      "C:\\Users\\eduar\\anaconda3\\envs\\dev\\lib\\site-packages\\pandas\\core\\indexing.py:1817: SettingWithCopyWarning: \n",
      "A value is trying to be set on a copy of a slice from a DataFrame.\n",
      "Try using .loc[row_indexer,col_indexer] = value instead\n",
      "\n",
      "See the caveats in the documentation: https://pandas.pydata.org/pandas-docs/stable/user_guide/indexing.html#returning-a-view-versus-a-copy\n",
      "  self._setitem_single_column(loc, value, pi)\n"
     ]
    }
   ],
   "source": [
    "ETH_df[\"Signal\"] = 0.0\n",
    "\n",
    "\n",
    "ETH_df.loc[(ETH_df[\"Actual Returns\"] >= 0), 'Signal'] = 1\n",
    "ETH_df.loc[(ETH_df[\"Actual Returns\"] < 0), 'Signal'] = -1"
   ]
  },
  {
   "cell_type": "code",
   "execution_count": 14,
   "id": "ca770127-c38e-4503-8087-306c44401e82",
   "metadata": {},
   "outputs": [
    {
     "data": {
      "text/html": [
       "<div>\n",
       "<style scoped>\n",
       "    .dataframe tbody tr th:only-of-type {\n",
       "        vertical-align: middle;\n",
       "    }\n",
       "\n",
       "    .dataframe tbody tr th {\n",
       "        vertical-align: top;\n",
       "    }\n",
       "\n",
       "    .dataframe thead th {\n",
       "        text-align: right;\n",
       "    }\n",
       "</style>\n",
       "<table border=\"1\" class=\"dataframe\">\n",
       "  <thead>\n",
       "    <tr style=\"text-align: right;\">\n",
       "      <th></th>\n",
       "      <th>exchange</th>\n",
       "      <th>close</th>\n",
       "      <th>Actual Returns</th>\n",
       "      <th>SMA_Fast</th>\n",
       "      <th>SMA_Slow</th>\n",
       "      <th>Signal</th>\n",
       "    </tr>\n",
       "    <tr>\n",
       "      <th>timestamp</th>\n",
       "      <th></th>\n",
       "      <th></th>\n",
       "      <th></th>\n",
       "      <th></th>\n",
       "      <th></th>\n",
       "      <th></th>\n",
       "    </tr>\n",
       "  </thead>\n",
       "  <tbody>\n",
       "    <tr>\n",
       "      <th>2016-08-27 05:00:00+00:00</th>\n",
       "      <td>CBSE</td>\n",
       "      <td>11.13</td>\n",
       "      <td>-0.013298</td>\n",
       "      <td>11.2325</td>\n",
       "      <td>12.6459</td>\n",
       "      <td>-1.0</td>\n",
       "    </tr>\n",
       "    <tr>\n",
       "      <th>2016-08-28 05:00:00+00:00</th>\n",
       "      <td>CBSE</td>\n",
       "      <td>11.01</td>\n",
       "      <td>-0.010782</td>\n",
       "      <td>11.1925</td>\n",
       "      <td>12.6242</td>\n",
       "      <td>-1.0</td>\n",
       "    </tr>\n",
       "    <tr>\n",
       "      <th>2016-08-29 05:00:00+00:00</th>\n",
       "      <td>CBSE</td>\n",
       "      <td>10.97</td>\n",
       "      <td>-0.003633</td>\n",
       "      <td>11.0975</td>\n",
       "      <td>12.5857</td>\n",
       "      <td>-1.0</td>\n",
       "    </tr>\n",
       "    <tr>\n",
       "      <th>2016-08-30 05:00:00+00:00</th>\n",
       "      <td>CBSE</td>\n",
       "      <td>11.16</td>\n",
       "      <td>0.017320</td>\n",
       "      <td>11.0675</td>\n",
       "      <td>12.5556</td>\n",
       "      <td>1.0</td>\n",
       "    </tr>\n",
       "    <tr>\n",
       "      <th>2016-08-31 05:00:00+00:00</th>\n",
       "      <td>CBSE</td>\n",
       "      <td>12.05</td>\n",
       "      <td>0.079749</td>\n",
       "      <td>11.2975</td>\n",
       "      <td>12.5387</td>\n",
       "      <td>1.0</td>\n",
       "    </tr>\n",
       "    <tr>\n",
       "      <th>...</th>\n",
       "      <td>...</td>\n",
       "      <td>...</td>\n",
       "      <td>...</td>\n",
       "      <td>...</td>\n",
       "      <td>...</td>\n",
       "      <td>...</td>\n",
       "    </tr>\n",
       "    <tr>\n",
       "      <th>2022-08-17 05:00:00+00:00</th>\n",
       "      <td>CBSE</td>\n",
       "      <td>1844.30</td>\n",
       "      <td>-0.029648</td>\n",
       "      <td>1900.1400</td>\n",
       "      <td>1568.1741</td>\n",
       "      <td>-1.0</td>\n",
       "    </tr>\n",
       "    <tr>\n",
       "      <th>2022-08-18 05:00:00+00:00</th>\n",
       "      <td>CBSE</td>\n",
       "      <td>1818.78</td>\n",
       "      <td>-0.013837</td>\n",
       "      <td>1858.9475</td>\n",
       "      <td>1562.8377</td>\n",
       "      <td>-1.0</td>\n",
       "    </tr>\n",
       "    <tr>\n",
       "      <th>2022-08-19 05:00:00+00:00</th>\n",
       "      <td>CBSE</td>\n",
       "      <td>1647.72</td>\n",
       "      <td>-0.094052</td>\n",
       "      <td>1802.8625</td>\n",
       "      <td>1560.3954</td>\n",
       "      <td>-1.0</td>\n",
       "    </tr>\n",
       "    <tr>\n",
       "      <th>2022-08-20 05:00:00+00:00</th>\n",
       "      <td>CBSE</td>\n",
       "      <td>1583.30</td>\n",
       "      <td>-0.039096</td>\n",
       "      <td>1723.5250</td>\n",
       "      <td>1555.3900</td>\n",
       "      <td>-1.0</td>\n",
       "    </tr>\n",
       "    <tr>\n",
       "      <th>2022-08-21 05:00:00+00:00</th>\n",
       "      <td>CBSE</td>\n",
       "      <td>1607.59</td>\n",
       "      <td>0.015341</td>\n",
       "      <td>1664.3475</td>\n",
       "      <td>1551.2769</td>\n",
       "      <td>1.0</td>\n",
       "    </tr>\n",
       "  </tbody>\n",
       "</table>\n",
       "<p>2186 rows × 6 columns</p>\n",
       "</div>"
      ],
      "text/plain": [
       "                          exchange    close  Actual Returns   SMA_Fast  \\\n",
       "timestamp                                                                \n",
       "2016-08-27 05:00:00+00:00     CBSE    11.13       -0.013298    11.2325   \n",
       "2016-08-28 05:00:00+00:00     CBSE    11.01       -0.010782    11.1925   \n",
       "2016-08-29 05:00:00+00:00     CBSE    10.97       -0.003633    11.0975   \n",
       "2016-08-30 05:00:00+00:00     CBSE    11.16        0.017320    11.0675   \n",
       "2016-08-31 05:00:00+00:00     CBSE    12.05        0.079749    11.2975   \n",
       "...                            ...      ...             ...        ...   \n",
       "2022-08-17 05:00:00+00:00     CBSE  1844.30       -0.029648  1900.1400   \n",
       "2022-08-18 05:00:00+00:00     CBSE  1818.78       -0.013837  1858.9475   \n",
       "2022-08-19 05:00:00+00:00     CBSE  1647.72       -0.094052  1802.8625   \n",
       "2022-08-20 05:00:00+00:00     CBSE  1583.30       -0.039096  1723.5250   \n",
       "2022-08-21 05:00:00+00:00     CBSE  1607.59        0.015341  1664.3475   \n",
       "\n",
       "                            SMA_Slow  Signal  \n",
       "timestamp                                     \n",
       "2016-08-27 05:00:00+00:00    12.6459    -1.0  \n",
       "2016-08-28 05:00:00+00:00    12.6242    -1.0  \n",
       "2016-08-29 05:00:00+00:00    12.5857    -1.0  \n",
       "2016-08-30 05:00:00+00:00    12.5556     1.0  \n",
       "2016-08-31 05:00:00+00:00    12.5387     1.0  \n",
       "...                              ...     ...  \n",
       "2022-08-17 05:00:00+00:00  1568.1741    -1.0  \n",
       "2022-08-18 05:00:00+00:00  1562.8377    -1.0  \n",
       "2022-08-19 05:00:00+00:00  1560.3954    -1.0  \n",
       "2022-08-20 05:00:00+00:00  1555.3900    -1.0  \n",
       "2022-08-21 05:00:00+00:00  1551.2769     1.0  \n",
       "\n",
       "[2186 rows x 6 columns]"
      ]
     },
     "execution_count": 14,
     "metadata": {},
     "output_type": "execute_result"
    }
   ],
   "source": [
    "ETH_df"
   ]
  },
  {
   "cell_type": "code",
   "execution_count": 15,
   "id": "8cbfe764-ce40-4024-b01b-6ba6093b8653",
   "metadata": {},
   "outputs": [
    {
     "name": "stderr",
     "output_type": "stream",
     "text": [
      "C:\\Users\\eduar\\anaconda3\\envs\\dev\\lib\\site-packages\\ipykernel_launcher.py:1: SettingWithCopyWarning: \n",
      "A value is trying to be set on a copy of a slice from a DataFrame.\n",
      "Try using .loc[row_indexer,col_indexer] = value instead\n",
      "\n",
      "See the caveats in the documentation: https://pandas.pydata.org/pandas-docs/stable/user_guide/indexing.html#returning-a-view-versus-a-copy\n",
      "  \"\"\"Entry point for launching an IPython kernel.\n"
     ]
    }
   ],
   "source": [
    "ETH_df['Strategy Returns'] = ETH_df['Actual Returns'] * ETH_df['Signal'].shift()"
   ]
  },
  {
   "cell_type": "code",
   "execution_count": 16,
   "id": "51561a8d-c4f5-4dfd-b1e5-8b4f817017eb",
   "metadata": {},
   "outputs": [
    {
     "data": {
      "text/html": [
       "<div>\n",
       "<style scoped>\n",
       "    .dataframe tbody tr th:only-of-type {\n",
       "        vertical-align: middle;\n",
       "    }\n",
       "\n",
       "    .dataframe tbody tr th {\n",
       "        vertical-align: top;\n",
       "    }\n",
       "\n",
       "    .dataframe thead th {\n",
       "        text-align: right;\n",
       "    }\n",
       "</style>\n",
       "<table border=\"1\" class=\"dataframe\">\n",
       "  <thead>\n",
       "    <tr style=\"text-align: right;\">\n",
       "      <th></th>\n",
       "      <th>exchange</th>\n",
       "      <th>close</th>\n",
       "      <th>Actual Returns</th>\n",
       "      <th>SMA_Fast</th>\n",
       "      <th>SMA_Slow</th>\n",
       "      <th>Signal</th>\n",
       "      <th>Strategy Returns</th>\n",
       "    </tr>\n",
       "    <tr>\n",
       "      <th>timestamp</th>\n",
       "      <th></th>\n",
       "      <th></th>\n",
       "      <th></th>\n",
       "      <th></th>\n",
       "      <th></th>\n",
       "      <th></th>\n",
       "      <th></th>\n",
       "    </tr>\n",
       "  </thead>\n",
       "  <tbody>\n",
       "    <tr>\n",
       "      <th>2016-08-27 05:00:00+00:00</th>\n",
       "      <td>CBSE</td>\n",
       "      <td>11.13</td>\n",
       "      <td>-0.013298</td>\n",
       "      <td>11.2325</td>\n",
       "      <td>12.6459</td>\n",
       "      <td>-1.0</td>\n",
       "      <td>NaN</td>\n",
       "    </tr>\n",
       "    <tr>\n",
       "      <th>2016-08-28 05:00:00+00:00</th>\n",
       "      <td>CBSE</td>\n",
       "      <td>11.01</td>\n",
       "      <td>-0.010782</td>\n",
       "      <td>11.1925</td>\n",
       "      <td>12.6242</td>\n",
       "      <td>-1.0</td>\n",
       "      <td>0.010782</td>\n",
       "    </tr>\n",
       "    <tr>\n",
       "      <th>2016-08-29 05:00:00+00:00</th>\n",
       "      <td>CBSE</td>\n",
       "      <td>10.97</td>\n",
       "      <td>-0.003633</td>\n",
       "      <td>11.0975</td>\n",
       "      <td>12.5857</td>\n",
       "      <td>-1.0</td>\n",
       "      <td>0.003633</td>\n",
       "    </tr>\n",
       "    <tr>\n",
       "      <th>2016-08-30 05:00:00+00:00</th>\n",
       "      <td>CBSE</td>\n",
       "      <td>11.16</td>\n",
       "      <td>0.017320</td>\n",
       "      <td>11.0675</td>\n",
       "      <td>12.5556</td>\n",
       "      <td>1.0</td>\n",
       "      <td>-0.017320</td>\n",
       "    </tr>\n",
       "    <tr>\n",
       "      <th>2016-08-31 05:00:00+00:00</th>\n",
       "      <td>CBSE</td>\n",
       "      <td>12.05</td>\n",
       "      <td>0.079749</td>\n",
       "      <td>11.2975</td>\n",
       "      <td>12.5387</td>\n",
       "      <td>1.0</td>\n",
       "      <td>0.079749</td>\n",
       "    </tr>\n",
       "    <tr>\n",
       "      <th>...</th>\n",
       "      <td>...</td>\n",
       "      <td>...</td>\n",
       "      <td>...</td>\n",
       "      <td>...</td>\n",
       "      <td>...</td>\n",
       "      <td>...</td>\n",
       "      <td>...</td>\n",
       "    </tr>\n",
       "    <tr>\n",
       "      <th>2022-08-17 05:00:00+00:00</th>\n",
       "      <td>CBSE</td>\n",
       "      <td>1844.30</td>\n",
       "      <td>-0.029648</td>\n",
       "      <td>1900.1400</td>\n",
       "      <td>1568.1741</td>\n",
       "      <td>-1.0</td>\n",
       "      <td>-0.029648</td>\n",
       "    </tr>\n",
       "    <tr>\n",
       "      <th>2022-08-18 05:00:00+00:00</th>\n",
       "      <td>CBSE</td>\n",
       "      <td>1818.78</td>\n",
       "      <td>-0.013837</td>\n",
       "      <td>1858.9475</td>\n",
       "      <td>1562.8377</td>\n",
       "      <td>-1.0</td>\n",
       "      <td>0.013837</td>\n",
       "    </tr>\n",
       "    <tr>\n",
       "      <th>2022-08-19 05:00:00+00:00</th>\n",
       "      <td>CBSE</td>\n",
       "      <td>1647.72</td>\n",
       "      <td>-0.094052</td>\n",
       "      <td>1802.8625</td>\n",
       "      <td>1560.3954</td>\n",
       "      <td>-1.0</td>\n",
       "      <td>0.094052</td>\n",
       "    </tr>\n",
       "    <tr>\n",
       "      <th>2022-08-20 05:00:00+00:00</th>\n",
       "      <td>CBSE</td>\n",
       "      <td>1583.30</td>\n",
       "      <td>-0.039096</td>\n",
       "      <td>1723.5250</td>\n",
       "      <td>1555.3900</td>\n",
       "      <td>-1.0</td>\n",
       "      <td>0.039096</td>\n",
       "    </tr>\n",
       "    <tr>\n",
       "      <th>2022-08-21 05:00:00+00:00</th>\n",
       "      <td>CBSE</td>\n",
       "      <td>1607.59</td>\n",
       "      <td>0.015341</td>\n",
       "      <td>1664.3475</td>\n",
       "      <td>1551.2769</td>\n",
       "      <td>1.0</td>\n",
       "      <td>-0.015341</td>\n",
       "    </tr>\n",
       "  </tbody>\n",
       "</table>\n",
       "<p>2186 rows × 7 columns</p>\n",
       "</div>"
      ],
      "text/plain": [
       "                          exchange    close  Actual Returns   SMA_Fast  \\\n",
       "timestamp                                                                \n",
       "2016-08-27 05:00:00+00:00     CBSE    11.13       -0.013298    11.2325   \n",
       "2016-08-28 05:00:00+00:00     CBSE    11.01       -0.010782    11.1925   \n",
       "2016-08-29 05:00:00+00:00     CBSE    10.97       -0.003633    11.0975   \n",
       "2016-08-30 05:00:00+00:00     CBSE    11.16        0.017320    11.0675   \n",
       "2016-08-31 05:00:00+00:00     CBSE    12.05        0.079749    11.2975   \n",
       "...                            ...      ...             ...        ...   \n",
       "2022-08-17 05:00:00+00:00     CBSE  1844.30       -0.029648  1900.1400   \n",
       "2022-08-18 05:00:00+00:00     CBSE  1818.78       -0.013837  1858.9475   \n",
       "2022-08-19 05:00:00+00:00     CBSE  1647.72       -0.094052  1802.8625   \n",
       "2022-08-20 05:00:00+00:00     CBSE  1583.30       -0.039096  1723.5250   \n",
       "2022-08-21 05:00:00+00:00     CBSE  1607.59        0.015341  1664.3475   \n",
       "\n",
       "                            SMA_Slow  Signal  Strategy Returns  \n",
       "timestamp                                                       \n",
       "2016-08-27 05:00:00+00:00    12.6459    -1.0               NaN  \n",
       "2016-08-28 05:00:00+00:00    12.6242    -1.0          0.010782  \n",
       "2016-08-29 05:00:00+00:00    12.5857    -1.0          0.003633  \n",
       "2016-08-30 05:00:00+00:00    12.5556     1.0         -0.017320  \n",
       "2016-08-31 05:00:00+00:00    12.5387     1.0          0.079749  \n",
       "...                              ...     ...               ...  \n",
       "2022-08-17 05:00:00+00:00  1568.1741    -1.0         -0.029648  \n",
       "2022-08-18 05:00:00+00:00  1562.8377    -1.0          0.013837  \n",
       "2022-08-19 05:00:00+00:00  1560.3954    -1.0          0.094052  \n",
       "2022-08-20 05:00:00+00:00  1555.3900    -1.0          0.039096  \n",
       "2022-08-21 05:00:00+00:00  1551.2769     1.0         -0.015341  \n",
       "\n",
       "[2186 rows x 7 columns]"
      ]
     },
     "execution_count": 16,
     "metadata": {},
     "output_type": "execute_result"
    }
   ],
   "source": [
    "ETH_df"
   ]
  },
  {
   "cell_type": "code",
   "execution_count": 17,
   "id": "f8832ef6-a735-4891-adec-692b7d616971",
   "metadata": {},
   "outputs": [
    {
     "data": {
      "text/plain": [
       "<AxesSubplot:xlabel='timestamp'>"
      ]
     },
     "execution_count": 17,
     "metadata": {},
     "output_type": "execute_result"
    },
    {
     "data": {
      "image/png": "[encoded data removed]",
      "text/plain": [
       "<Figure size 432x288 with 1 Axes>"
      ]
     },
     "metadata": {
      "needs_background": "light"
     },
     "output_type": "display_data"
    }
   ],
   "source": [
    "(1 + ETH_df['Strategy Returns']).cumprod().plot()"
   ]
  },
  {
   "cell_type": "code",
   "execution_count": 18,
   "id": "0a43c5fd-2592-4418-a508-53beab69e26a",
   "metadata": {},
   "outputs": [],
   "source": [
    "X = ETH_df[['SMA_Fast', 'SMA_Slow']].shift().dropna()"
   ]
  },
  {
   "cell_type": "code",
   "execution_count": 19,
   "id": "b64757fc-c0e3-4c27-bcc4-b8904c0a3485",
   "metadata": {},
   "outputs": [],
   "source": [
    "y = ETH_df['Signal']"
   ]
  },
  {
   "cell_type": "code",
   "execution_count": 20,
   "id": "e1346c9b-283f-4e1e-9b9e-97d50b00e6fa",
   "metadata": {},
   "outputs": [
    {
     "name": "stdout",
     "output_type": "stream",
     "text": [
      "2016-08-28 05:00:00+00:00\n"
     ]
    }
   ],
   "source": [
    "training_begin = X.index.min()\n",
    "print(training_begin)"
   ]
  },
  {
   "cell_type": "code",
   "execution_count": 21,
   "id": "a3880f77-ca91-4146-9c71-52c83c9154c9",
   "metadata": {},
   "outputs": [
    {
     "name": "stdout",
     "output_type": "stream",
     "text": [
      "2018-08-28 05:00:00+00:00\n"
     ]
    }
   ],
   "source": [
    "training_end = X.index.min() + DateOffset(months=24)\n",
    "print(training_end)"
   ]
  },
  {
   "cell_type": "code",
   "execution_count": 22,
   "id": "9c21be4c-d06b-412e-8222-85d491beb645",
   "metadata": {},
   "outputs": [],
   "source": [
    "X_train = X.loc[training_begin:training_end]\n",
    "y_train = y.loc[training_begin:training_end]\n"
   ]
  },
  {
   "cell_type": "code",
   "execution_count": 23,
   "id": "7fd3cee3-05cc-41c5-87f1-27da8c42ba71",
   "metadata": {
    "tags": []
   },
   "outputs": [],
   "source": [
    "X_test = X.loc[training_end+DateOffset(hours=1):]\n",
    "y_test = y.loc[training_end+DateOffset(hours=1):]"
   ]
  },
  {
   "cell_type": "code",
   "execution_count": 24,
   "id": "1b0fe3c5-7b07-4b54-a8fb-9a2a2c5988a8",
   "metadata": {},
   "outputs": [],
   "source": [
    "scaler = StandardScaler()\n",
    "\n",
    "\n",
    "X_scaler = scaler.fit(X_train)\n",
    "\n",
    "\n",
    "X_train_scaled = X_scaler.transform(X_train)\n",
    "X_test_scaled = X_scaler.transform(X_test)"
   ]
  },
  {
   "cell_type": "code",
   "execution_count": 25,
   "id": "57a5e479-c9a1-40b9-b67f-4d02c402d011",
   "metadata": {
    "tags": []
   },
   "outputs": [],
   "source": [
    "from sklearn import svm"
   ]
  },
  {
   "cell_type": "code",
   "execution_count": 26,
   "id": "fc501658-2dee-4fff-9b39-e62ce18f42cc",
   "metadata": {},
   "outputs": [
    {
     "data": {
      "text/plain": [
       "array([1., 1., 1., 1., 1., 1., 1., 1., 1., 1.])"
      ]
     },
     "execution_count": 26,
     "metadata": {},
     "output_type": "execute_result"
    }
   ],
   "source": [
    "svm_model =svm.SVC()\n",
    " \n",
    "# Fit the model to the data using the training data\n",
    "svm_model = svm_model.fit(X_train_scaled, y_train)\n",
    " \n",
    "# Use the testing data to make the model predictions\n",
    "svm_pred = svm_model.predict(X_train_scaled)\n",
    "\n",
    "# Review the model's predicted values\n",
    "svm_pred[:10]\n"
   ]
  },
  {
   "cell_type": "code",
   "execution_count": 27,
   "id": "9dc78955-0afd-4ecd-9cdd-621980c3584e",
   "metadata": {},
   "outputs": [
    {
     "name": "stdout",
     "output_type": "stream",
     "text": [
      "              precision    recall  f1-score   support\n",
      "\n",
      "        -1.0       0.53      0.15      0.24       352\n",
      "         1.0       0.53      0.87      0.66       379\n",
      "\n",
      "    accuracy                           0.53       731\n",
      "   macro avg       0.53      0.51      0.45       731\n",
      "weighted avg       0.53      0.53      0.46       731\n",
      "\n"
     ]
    }
   ],
   "source": [
    "svm_testing_report = classification_report(y_train, svm_pred)\n",
    "\n",
    "# Print the classification report\n",
    "print(svm_testing_report)"
   ]
  },
  {
   "cell_type": "code",
   "execution_count": 28,
   "id": "aa363c24-9318-4e73-9ba1-53e7630fc454",
   "metadata": {},
   "outputs": [],
   "source": [
    "# Use the trained model to predict the trading signals for the testing data.\n",
    "testing_signal_predictions = svm_model.predict(X_test_scaled)"
   ]
  },
  {
   "cell_type": "code",
   "execution_count": 29,
   "id": "bc7358e1-aa0c-4073-93ab-1d3df6d697ea",
   "metadata": {},
   "outputs": [
    {
     "name": "stdout",
     "output_type": "stream",
     "text": [
      "              precision    recall  f1-score   support\n",
      "\n",
      "        -1.0       0.50      0.41      0.45       711\n",
      "         1.0       0.52      0.60      0.56       743\n",
      "\n",
      "    accuracy                           0.51      1454\n",
      "   macro avg       0.51      0.51      0.50      1454\n",
      "weighted avg       0.51      0.51      0.51      1454\n",
      "\n"
     ]
    }
   ],
   "source": [
    " # Evaluate the model's ability to predict the trading signal for the testing data\n",
    "svm_testing_report = classification_report(y_test, testing_signal_predictions)\n",
    "print(svm_testing_report)"
   ]
  },
  {
   "cell_type": "code",
   "execution_count": 30,
   "id": "1502fc74-1480-43d9-a951-24c5af8da0ab",
   "metadata": {},
   "outputs": [],
   "source": [
    "from sklearn.ensemble import BaggingClassifier"
   ]
  },
  {
   "cell_type": "code",
   "execution_count": 31,
   "id": "bb4fed7b-4aa1-48df-9e10-18d9f64631e9",
   "metadata": {},
   "outputs": [
    {
     "data": {
      "text/plain": [
       "array([-1., -1.,  1.,  1.,  1.,  1., -1., -1., -1., -1.])"
      ]
     },
     "execution_count": 31,
     "metadata": {},
     "output_type": "execute_result"
    }
   ],
   "source": [
    "bc_model = BaggingClassifier()\n",
    " \n",
    "# Fit the model to the data using the training data\n",
    "bc_model = bc_model.fit(X_train_scaled, y_train)\n",
    " \n",
    "# Use the testing data to make the model predictions\n",
    "bc_pred = bc_model.predict(X_train_scaled)\n",
    "\n",
    "# Review the model's predicted values\n",
    "bc_pred[:10]"
   ]
  },
  {
   "cell_type": "code",
   "execution_count": 32,
   "id": "66a0cb30-d475-49f3-86e9-5f0e91d68c83",
   "metadata": {},
   "outputs": [
    {
     "name": "stdout",
     "output_type": "stream",
     "text": [
      "              precision    recall  f1-score   support\n",
      "\n",
      "        -1.0       0.53      0.15      0.24       352\n",
      "         1.0       0.53      0.87      0.66       379\n",
      "\n",
      "    accuracy                           0.53       731\n",
      "   macro avg       0.53      0.51      0.45       731\n",
      "weighted avg       0.53      0.53      0.46       731\n",
      "\n"
     ]
    }
   ],
   "source": [
    "bc_testing_report = classification_report(y_train, svm_pred)\n",
    "\n",
    "# Print the classification report\n",
    "print(bc_testing_report)"
   ]
  },
  {
   "cell_type": "code",
   "execution_count": 33,
   "id": "f87dd624-83ab-4820-8d22-a14914f279f6",
   "metadata": {},
   "outputs": [],
   "source": [
    "# Use the trained model to predict the trading signals for the testing data.\n",
    "testing_signal_predictions = bc_model.predict(X_test_scaled)"
   ]
  },
  {
   "cell_type": "code",
   "execution_count": 34,
   "id": "0217dfb3-05f5-4428-91fa-3eda34b1d8f3",
   "metadata": {},
   "outputs": [
    {
     "name": "stdout",
     "output_type": "stream",
     "text": [
      "              precision    recall  f1-score   support\n",
      "\n",
      "        -1.0       0.48      0.59      0.53       711\n",
      "         1.0       0.50      0.40      0.44       743\n",
      "\n",
      "    accuracy                           0.49      1454\n",
      "   macro avg       0.49      0.49      0.49      1454\n",
      "weighted avg       0.49      0.49      0.49      1454\n",
      "\n"
     ]
    }
   ],
   "source": [
    " # Evaluate the model's ability to predict the trading signal for the testing data\n",
    "bc_testing_report = classification_report(y_test, testing_signal_predictions)\n",
    "print(bc_testing_report)"
   ]
  },
  {
   "cell_type": "code",
   "execution_count": 35,
   "id": "30fb1ac0-f248-4008-81d3-fff92976701c",
   "metadata": {},
   "outputs": [],
   "source": [
    "from sklearn.ensemble import AdaBoostClassifier"
   ]
  },
  {
   "cell_type": "code",
   "execution_count": 36,
   "id": "88942a6e-04b7-4631-9a95-97dfb895bbed",
   "metadata": {},
   "outputs": [
    {
     "data": {
      "text/plain": [
       "array([-1., -1., -1., -1., -1., -1., -1., -1., -1., -1.])"
      ]
     },
     "execution_count": 36,
     "metadata": {},
     "output_type": "execute_result"
    }
   ],
   "source": [
    "ABC_model = AdaBoostClassifier()\n",
    " \n",
    "# Fit the model to the data using the training data\n",
    "ABC_model = ABC_model.fit(X_train_scaled, y_train)\n",
    " \n",
    "# Use the testing data to make the model predictions\n",
    "ABC_pred = ABC_model.predict(X_train_scaled)\n",
    "\n",
    "# Review the model's predicted values\n",
    "ABC_pred[:10]\n"
   ]
  },
  {
   "cell_type": "code",
   "execution_count": 37,
   "id": "0c840b9a-619a-4467-b2dc-ebfa2102f917",
   "metadata": {},
   "outputs": [
    {
     "name": "stdout",
     "output_type": "stream",
     "text": [
      "              precision    recall  f1-score   support\n",
      "\n",
      "        -1.0       0.53      0.15      0.24       352\n",
      "         1.0       0.53      0.87      0.66       379\n",
      "\n",
      "    accuracy                           0.53       731\n",
      "   macro avg       0.53      0.51      0.45       731\n",
      "weighted avg       0.53      0.53      0.46       731\n",
      "\n"
     ]
    }
   ],
   "source": [
    "ABC_testing_report = classification_report(y_train, svm_pred)\n",
    "\n",
    "# Print the classification report\n",
    "print(ABC_testing_report)"
   ]
  },
  {
   "cell_type": "code",
   "execution_count": 38,
   "id": "8a5be004-82d5-4952-8c3f-454203cf5a8b",
   "metadata": {},
   "outputs": [],
   "source": [
    "# Use the trained model to predict the trading signals for the testing data.\n",
    "testing_signal_predictions = ABC_model.predict(X_test_scaled)"
   ]
  },
  {
   "cell_type": "code",
   "execution_count": 39,
   "id": "59ba5eb0-69e4-4168-bd34-8db9d87c9004",
   "metadata": {},
   "outputs": [
    {
     "name": "stdout",
     "output_type": "stream",
     "text": [
      "              precision    recall  f1-score   support\n",
      "\n",
      "        -1.0       0.50      0.41      0.45       711\n",
      "         1.0       0.52      0.60      0.56       743\n",
      "\n",
      "    accuracy                           0.51      1454\n",
      "   macro avg       0.51      0.51      0.50      1454\n",
      "weighted avg       0.51      0.51      0.51      1454\n",
      "\n"
     ]
    }
   ],
   "source": [
    " # Evaluate the model's ability to predict the trading signal for the testing data\n",
    "ABC_testing_report = classification_report(y_test, testing_signal_predictions)\n",
    "print(ABC_testing_report)"
   ]
  },
  {
   "cell_type": "code",
   "execution_count": null,
   "id": "29b1b085-9ad4-41d3-a663-e7df8bd02f9d",
   "metadata": {},
   "outputs": [],
   "source": []
  }
 ],
 "metadata": {
  "kernelspec": {
   "display_name": "Python 3 (ipykernel)",
   "language": "python",
   "name": "python3"
  },
  "language_info": {
   "codemirror_mode": {
    "name": "ipython",
    "version": 3
   },
   "file_extension": ".py",
   "mimetype": "text/x-python",
   "name": "python",
   "nbconvert_exporter": "python",
   "pygments_lexer": "ipython3",
   "version": "3.7.11"
  }
 },
 "nbformat": 4,
 "nbformat_minor": 5
}
