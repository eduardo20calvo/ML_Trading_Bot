{
 "cells": [
  {
   "cell_type": "code",
   "execution_count": 236,
   "id": "10950323-ea86-4245-a762-5386b1c1c0b3",
   "metadata": {},
   "outputs": [],
   "source": [
    "import os\n",
    "from dotenv import load_dotenv\n",
    "import alpaca_trade_api as tradeapi\n",
    "from alpaca_trade_api.rest import TimeFrame \n",
    "import pandas_ta as pta\n",
    "from datetime import date, timedelta\n",
    "from sklearn.preprocessing import StandardScaler\n",
    "from pandas.tseries.offsets import DateOffset\n",
    "from sklearn.metrics import classification_report\n",
    "from sklearn import svm"
   ]
  },
  {
   "cell_type": "code",
   "execution_count": 237,
   "id": "17b957f5-7ccb-4b90-90fa-6d46aecb96bf",
   "metadata": {},
   "outputs": [],
   "source": [
    "# Creating aplaca api key variables for access \n",
    "load_dotenv()\n",
    "api_key = os.getenv('ALPACA_API_KEY')\n",
    "api_secret = os.getenv('ALPACA_SECRET_KEY')\n",
    "\n",
    "#creating timeframe to recieve most recent data\n",
    "yesterday_date = date.today() - timedelta(1)\n"
   ]
  },
  {
   "cell_type": "code",
   "execution_count": 238,
   "id": "ac92d921-7a7b-4dad-b9d4-6275b20ce5d8",
   "metadata": {},
   "outputs": [],
   "source": [
    "#Setting necessary variables for alpaca api function\n",
    "base_url = 'https://paper-api.alpaca.markets'\n",
    "api = tradeapi.REST(api_key, api_secret, base_url, api_version='v2')\n",
    "account = api.get_account()\n",
    "\n",
    "# Create the Alpaca API object\n",
    "symbol= \"ETHUSD\"\n",
    "ETH_df= {}"
   ]
  },
  {
   "cell_type": "code",
   "execution_count": 239,
   "id": "f382babe-15cd-41b9-b7d5-2fea4f2ba51f",
   "metadata": {},
   "outputs": [],
   "source": [
    "def get_bars(sym):\n",
    "    test = api.get_crypto_bars(sym)\n",
    "    return test\n"
   ]
  },
  {
   "cell_type": "code",
   "execution_count": null,
   "id": "eabf022a-0339-409c-9035-064671ff4c27",
   "metadata": {},
   "outputs": [],
   "source": []
  },
  {
   "cell_type": "code",
   "execution_count": 240,
   "id": "98f9003f-c8d0-44c9-a6ca-2d40c21b32da",
   "metadata": {},
   "outputs": [],
   "source": [
    "# Creating Function to clean data\n",
    "def get_rsi(symbol:str = 'ETHUSD', yesterdays_date = date.today() - timedelta(1)):\n",
    "    raw_data = api.get_crypto_bars(symbol,  TimeFrame.Day, \"2017-06-08\", yesterdays_date)\n",
    "    raw_data = raw_data.df\n",
    "    raw_data = raw_data.drop(columns=[\"open\",\"high\",\"low\",\"volume\",\"trade_count\",\"vwap\"])\n",
    "    raw_data = raw_data[raw_data['exchange'].str.contains(\"ERSX|FTXU\")==False]\n",
    "    raw_data[\"Actual Returns\"] = raw_data[\"close\"].pct_change()\n",
    "    raw_data[\"RSI EMA\"] = pta.rsi(raw_data[\"close\"], length = 30)\n",
    "    raw_data[\"RSI Drift\"] = pta.rsi(raw_data[\"close\"], length = 30, drift = 10)\n",
    "    raw_data = raw_data.dropna()\n",
    "    raw_data[\"Signal\"] = 0.0\n",
    "    raw_data.loc[(ETH_df[\"Actual Returns\"] >= 0), 'Signal'] = 1\n",
    "    raw_data.loc[(ETH_df[\"Actual Returns\"] < 0), 'Signal'] = -1\n",
    "    raw_data['Strategy Returns'] = raw_data['Actual Returns'] * raw_data['Signal'].shift()\n",
    "    \n",
    "    return raw_data\n",
    "    \n"
   ]
  },
  {
   "cell_type": "code",
   "execution_count": 242,
   "id": "d9c602a4-989a-461d-a371-844386135d09",
   "metadata": {},
   "outputs": [],
   "source": [
    "def get_pause():\n",
    "    now = datetime.now()\n",
    "    next_min = now.replace(second=0, microsecond=0) + timedelta(minutes=1)\n",
    "    pause = math.ceil((next_min - now).seconds)\n",
    "    print(f\"Sleep for {pause}\")\n",
    "    return pause"
   ]
  },
  {
   "cell_type": "code",
   "execution_count": null,
   "id": "788bb11b-8988-4edf-803e-f9cee2a690e4",
   "metadata": {},
   "outputs": [],
   "source": []
  },
  {
   "cell_type": "code",
   "execution_count": null,
   "id": "6cae354a-ce91-477c-afcb-a2adaf615a74",
   "metadata": {},
   "outputs": [],
   "source": []
  },
  {
   "cell_type": "code",
   "execution_count": 199,
   "id": "97d38c59-7486-4d72-8f54-fc69e7878371",
   "metadata": {},
   "outputs": [],
   "source": []
  },
  {
   "cell_type": "code",
   "execution_count": null,
   "id": "59168583-7f44-4e2a-956b-f2efd40f71a9",
   "metadata": {},
   "outputs": [],
   "source": []
  },
  {
   "cell_type": "code",
   "execution_count": 241,
   "id": "8cbe19ec-e48e-452f-91d5-c3cdc8865d80",
   "metadata": {},
   "outputs": [],
   "source": [
    "def get_ml_indicator(df):\n",
    "    X = df[[\"RSI EMA\",\"RSI Drift\" ]].shift().dropna()\n",
    "    y = df['Signal']\n",
    "    training_begin = X.index.min()\n",
    "    training_end = X.index.min() + DateOffset(months=36)\n",
    "    X_train = X.loc[training_begin:training_end]\n",
    "    y_train = y.loc[training_begin:training_end]\n",
    "    X_test = X.loc[training_end+DateOffset(hours=1):]\n",
    "    y_test = y.loc[training_end+DateOffset(hours=1):]\n",
    "    scaler = StandardScaler()\n",
    "    X_scaler = scaler.fit(X_train)\n",
    "    X_train_scaled = X_scaler.transform(X_train)\n",
    "    X_test_scaled = X_scaler.transform(X_test)\n",
    "    svm_model =svm.SVC()\n",
    "     # Fit the model to the data using the training data\n",
    "    svm_model = svm_model.fit(X_train_scaled, y_train) \n",
    "    # Use the testing data to make the model predictions\n",
    "    svm_pred = svm_model.predict(X_test_scaled)\n",
    "    test_out = df[training_end+DateOffset(hours=1):]\n",
    "    test_out['ml'] = svm_pred\n",
    "    # Review the model's predicted values \n",
    "    svm_pred[:10]\n",
    "    return test_out\n",
    "\n"
   ]
  },
  {
   "cell_type": "code",
   "execution_count": null,
   "id": "4b9ae5e9-0e55-4628-98da-a8aa5c60492a",
   "metadata": {},
   "outputs": [],
   "source": []
  },
  {
   "cell_type": "code",
   "execution_count": null,
   "id": "fbd947ea-9367-45c9-a32d-beec9842cfc8",
   "metadata": {},
   "outputs": [],
   "source": []
  },
  {
   "cell_type": "code",
   "execution_count": null,
   "id": "1969d93d-e78d-499d-bcca-1fa6cea7f918",
   "metadata": {},
   "outputs": [],
   "source": [
    "while True\n",
    "    ETH_df = get_rsi()\n",
    "    rsi = ETH_df[\"RSI EMA\"].loc[ETH_df.index.max()]\n",
    "    ml_df = get_nl_indicator(ETH_df)\n",
    "    ml_signal = ml_df[\"ml\"].loc[ml_df.index.max()]\n",
    "    if rsi >= 70 and ml_signal = -1:\n",
    "        order_sell = api.submit_order(symbol='ETHUSD'\n",
    "                                      ,qty=1\n",
    "                                      ,side='sell'\n",
    "                                      ,type='limit'\n",
    "                                      ,time_in_force='gtc'\n",
    "                                      ,limit_price=19000)\n",
    "        print(f'Symbol: {SYMBOL} / Side: BUY / Quantity: {QTY_PER_TRADE}')\n",
    "    elif rsi <=30 and ml_signal = 1:\n",
    "        order_buy = api.submit_order(symbol='ETHUSD'\n",
    "                                     ,qty=1\n",
    "                                     ,side='buy'\n",
    "                                     ,type='market'\n",
    "                                     ,time_in_force='gtc')\n",
    "        print(f'Symbol: {SYMBOL} / Side: SELL / Quantity: {QTY_PER_TRADE}')\n",
    "    time.sleep(get_pause())\n",
    "    print(\"*\"*20)\n",
    "        \n",
    "        \n",
    "        \n",
    "        \n",
    "        \n",
    "    "
   ]
  },
  {
   "cell_type": "code",
   "execution_count": null,
   "id": "81bad79a-0982-4cf4-a714-6d3a05613e50",
   "metadata": {},
   "outputs": [],
   "source": []
  },
  {
   "cell_type": "code",
   "execution_count": null,
   "id": "8c44b6fd-afe3-49dc-a645-9465138e5161",
   "metadata": {},
   "outputs": [],
   "source": []
  },
  {
   "cell_type": "code",
   "execution_count": null,
   "id": "cda1f45e-fb89-474d-8f33-3e017d4fc292",
   "metadata": {},
   "outputs": [],
   "source": []
  }
 ],
 "metadata": {
  "kernelspec": {
   "display_name": "Python 3 (ipykernel)",
   "language": "python",
   "name": "python3"
  },
  "language_info": {
   "codemirror_mode": {
    "name": "ipython",
    "version": 3
   },
   "file_extension": ".py",
   "mimetype": "text/x-python",
   "name": "python",
   "nbconvert_exporter": "python",
   "pygments_lexer": "ipython3",
   "version": "3.7.13"
  }
 },
 "nbformat": 4,
 "nbformat_minor": 5
}
